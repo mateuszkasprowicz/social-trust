{
 "cells": [
  {
   "cell_type": "markdown",
   "source": [
    "# Selected socio-economic determinants of social trust\n",
    "\n",
    "Author: Mateusz Kasprowicz\n",
    "Date: January 2024"
   ],
   "metadata": {
    "collapsed": false
   },
   "id": "82bf2bea55bc3a4d"
  },
  {
   "cell_type": "markdown",
   "source": [
    "## Load libraries"
   ],
   "metadata": {
    "collapsed": false
   },
   "id": "e1f707f51ac62e9d"
  },
  {
   "cell_type": "code",
   "execution_count": 5,
   "outputs": [],
   "source": [
    "import random\n",
    "\n",
    "import pandas as pd\n",
    "import numpy as np\n",
    "\n",
    "import matplotlib as mpl\n",
    "import matplotlib.pyplot as plt\n",
    "import seaborn as sns\n",
    "import plotly.express as px\n",
    "\n",
    "import sklearn\n",
    "import statsmodels.api as sm"
   ],
   "metadata": {
    "collapsed": false,
    "ExecuteTime": {
     "end_time": "2023-12-22T15:52:37.899788300Z",
     "start_time": "2023-12-22T15:52:37.893990200Z"
    }
   },
   "id": "f46af5316d9f43a"
  },
  {
   "cell_type": "markdown",
   "source": [
    "## Constants"
   ],
   "metadata": {
    "collapsed": false
   },
   "id": "2a90c1d8251a7467"
  },
  {
   "cell_type": "code",
   "execution_count": 4,
   "outputs": [],
   "source": [
    "np.random.seed(0)\n",
    "random.seed(0)"
   ],
   "metadata": {
    "collapsed": false,
    "ExecuteTime": {
     "end_time": "2023-12-22T15:52:27.931370700Z",
     "start_time": "2023-12-22T15:52:27.930862Z"
    }
   },
   "id": "ed6791f39f0e2f96"
  },
  {
   "cell_type": "markdown",
   "source": [
    "## Load data"
   ],
   "metadata": {
    "collapsed": false
   },
   "id": "3b180d1efaa27d29"
  },
  {
   "cell_type": "code",
   "execution_count": 21,
   "outputs": [],
   "source": [
    "columns_used = [\"cntry\", \n",
    "                \"agea\", \n",
    "                \"eduyrs\", \n",
    "                \"gndr\", \n",
    "                \"marsts\", # Legal marital status\n",
    "                \"hinctnta\", # Household's total net income, all sources\n",
    "                \"uemp3m\", # Ever unemployed and seeking work for a period more than three months\n",
    "                ]"
   ],
   "metadata": {
    "collapsed": false,
    "ExecuteTime": {
     "end_time": "2023-12-22T16:03:27.189923300Z",
     "start_time": "2023-12-22T16:03:27.173671500Z"
    }
   },
   "id": "be4b9de61dc09d4f"
  },
  {
   "cell_type": "code",
   "execution_count": 22,
   "outputs": [],
   "source": [
    "data = pd.read_spss(r\"../data/ESS10SC_SPSS/ESS10SC.sav\", usecols=columns_used)"
   ],
   "metadata": {
    "collapsed": false,
    "ExecuteTime": {
     "end_time": "2023-12-22T16:03:27.759248800Z",
     "start_time": "2023-12-22T16:03:27.512853300Z"
    }
   },
   "id": "e272f11edd83e06e"
  },
  {
   "cell_type": "code",
   "execution_count": 24,
   "outputs": [
    {
     "name": "stdout",
     "output_type": "stream",
     "text": [
      "<class 'pandas.core.frame.DataFrame'>\n",
      "RangeIndex: 22074 entries, 0 to 22073\n",
      "Data columns (total 6 columns):\n",
      " #   Column    Non-Null Count  Dtype   \n",
      "---  ------    --------------  -----   \n",
      " 0   cntry     22074 non-null  category\n",
      " 1   gndr      21439 non-null  category\n",
      " 2   agea      21028 non-null  category\n",
      " 3   eduyrs    20074 non-null  category\n",
      " 4   uemp3m    20676 non-null  category\n",
      " 5   hinctnta  17232 non-null  category\n",
      "dtypes: category(6)\n",
      "memory usage: 134.5 KB\n"
     ]
    }
   ],
   "source": [
    "data.info()"
   ],
   "metadata": {
    "collapsed": false,
    "ExecuteTime": {
     "end_time": "2023-12-22T16:03:38.757511800Z",
     "start_time": "2023-12-22T16:03:38.746236400Z"
    }
   },
   "id": "826c20937cff985b"
  },
  {
   "cell_type": "code",
   "execution_count": 25,
   "outputs": [
    {
     "data": {
      "text/plain": "         cntry    gndr  agea eduyrs uemp3m         hinctnta\n6676   Germany  Female  77.0    NaN    NaN              NaN\n14824   Israel    Male  42.0   16.0    Yes  H - 10th decile\n18791   Serbia  Female  61.0   12.0    Yes   C - 3rd decile\n11088  Germany  Female  51.0   13.0     No   S - 6th decile\n8420   Germany    Male  33.0   15.0     No   R - 2nd decile",
      "text/html": "<div>\n<style scoped>\n    .dataframe tbody tr th:only-of-type {\n        vertical-align: middle;\n    }\n\n    .dataframe tbody tr th {\n        vertical-align: top;\n    }\n\n    .dataframe thead th {\n        text-align: right;\n    }\n</style>\n<table border=\"1\" class=\"dataframe\">\n  <thead>\n    <tr style=\"text-align: right;\">\n      <th></th>\n      <th>cntry</th>\n      <th>gndr</th>\n      <th>agea</th>\n      <th>eduyrs</th>\n      <th>uemp3m</th>\n      <th>hinctnta</th>\n    </tr>\n  </thead>\n  <tbody>\n    <tr>\n      <th>6676</th>\n      <td>Germany</td>\n      <td>Female</td>\n      <td>77.0</td>\n      <td>NaN</td>\n      <td>NaN</td>\n      <td>NaN</td>\n    </tr>\n    <tr>\n      <th>14824</th>\n      <td>Israel</td>\n      <td>Male</td>\n      <td>42.0</td>\n      <td>16.0</td>\n      <td>Yes</td>\n      <td>H - 10th decile</td>\n    </tr>\n    <tr>\n      <th>18791</th>\n      <td>Serbia</td>\n      <td>Female</td>\n      <td>61.0</td>\n      <td>12.0</td>\n      <td>Yes</td>\n      <td>C - 3rd decile</td>\n    </tr>\n    <tr>\n      <th>11088</th>\n      <td>Germany</td>\n      <td>Female</td>\n      <td>51.0</td>\n      <td>13.0</td>\n      <td>No</td>\n      <td>S - 6th decile</td>\n    </tr>\n    <tr>\n      <th>8420</th>\n      <td>Germany</td>\n      <td>Male</td>\n      <td>33.0</td>\n      <td>15.0</td>\n      <td>No</td>\n      <td>R - 2nd decile</td>\n    </tr>\n  </tbody>\n</table>\n</div>"
     },
     "execution_count": 25,
     "metadata": {},
     "output_type": "execute_result"
    }
   ],
   "source": [
    "data.sample(5)"
   ],
   "metadata": {
    "collapsed": false,
    "ExecuteTime": {
     "end_time": "2023-12-22T16:04:08.766486900Z",
     "start_time": "2023-12-22T16:04:08.763007200Z"
    }
   },
   "id": "62db5a3d53abc2f8"
  },
  {
   "cell_type": "code",
   "execution_count": null,
   "outputs": [],
   "source": [],
   "metadata": {
    "collapsed": false
   },
   "id": "6b455384548d9cf3"
  }
 ],
 "metadata": {
  "kernelspec": {
   "display_name": "Python 3",
   "language": "python",
   "name": "python3"
  },
  "language_info": {
   "codemirror_mode": {
    "name": "ipython",
    "version": 2
   },
   "file_extension": ".py",
   "mimetype": "text/x-python",
   "name": "python",
   "nbconvert_exporter": "python",
   "pygments_lexer": "ipython2",
   "version": "2.7.6"
  }
 },
 "nbformat": 4,
 "nbformat_minor": 5
}
