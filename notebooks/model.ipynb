{
 "cells": [
  {
   "cell_type": "markdown",
   "id": "82bf2bea55bc3a4d",
   "metadata": {},
   "source": [
    "# Selected socio-economic determinants of social trust\n",
    "\n",
    "Author: Mateusz Kasprowicz\n",
    "Date: January 2024"
   ]
  },
  {
   "cell_type": "markdown",
   "id": "e1f707f51ac62e9d",
   "metadata": {},
   "source": [
    "## Load libraries"
   ]
  },
  {
   "cell_type": "code",
   "execution_count": 22,
   "id": "f46af5316d9f43a",
   "metadata": {
    "ExecuteTime": {
     "end_time": "2024-01-05T23:08:23.153953900Z",
     "start_time": "2024-01-05T23:08:23.146741Z"
    }
   },
   "outputs": [],
   "source": [
    "import random\n",
    "import os\n",
    "\n",
    "import pandas as pd\n",
    "from ydata_profiling import ProfileReport\n",
    "import numpy as np\n",
    "\n",
    "import matplotlib as mpl\n",
    "import matplotlib.pyplot as plt\n",
    "import seaborn as sns\n",
    "import plotly.express as px\n",
    "\n",
    "import sklearn\n",
    "from sklearn.impute import SimpleImputer\n",
    "from sklearn.compose import make_column_transformer, make_column_selector\n",
    "from sklearn.preprocessing import OneHotEncoder\n",
    "import statsmodels.api as sm\n",
    "from statsmodels.miscmodels.ordinal_model import OrderedModel"
   ]
  },
  {
   "cell_type": "markdown",
   "id": "2a90c1d8251a7467",
   "metadata": {},
   "source": [
    "## Constants"
   ]
  },
  {
   "cell_type": "code",
   "execution_count": 19,
   "id": "ed6791f39f0e2f96",
   "metadata": {
    "ExecuteTime": {
     "end_time": "2024-01-05T23:03:07.955337200Z",
     "start_time": "2024-01-05T23:03:07.945766600Z"
    }
   },
   "outputs": [],
   "source": [
    "random_state = 0\n",
    "\n",
    "np.random.seed(random_state)\n",
    "os.environ[\"PYTHONHASHSEED\"] = str(random_state)\n",
    "random.seed(random_state)"
   ]
  },
  {
   "cell_type": "code",
   "execution_count": 20,
   "id": "9227b33b8f7545a8",
   "metadata": {
    "ExecuteTime": {
     "end_time": "2024-01-05T23:03:22.085243700Z",
     "start_time": "2024-01-05T23:03:22.075504300Z"
    }
   },
   "outputs": [],
   "source": [
    "sklearn.set_config(transform_output=\"pandas\")"
   ]
  },
  {
   "cell_type": "markdown",
   "id": "3b180d1efaa27d29",
   "metadata": {},
   "source": [
    "## Load data"
   ]
  },
  {
   "cell_type": "code",
   "execution_count": 3,
   "id": "be4b9de61dc09d4f",
   "metadata": {
    "ExecuteTime": {
     "end_time": "2024-01-05T22:36:52.206402200Z",
     "start_time": "2024-01-05T22:36:52.196384500Z"
    }
   },
   "outputs": [],
   "source": [
    "columns_used = [\"cntry\", \n",
    "                \"agea\", \n",
    "                \"eduyrs\", \n",
    "                \"gndr\", \n",
    "                \"domicil\", # A big city, suburbs, town or small city, country village, etc.\n",
    "                \"hinctnta\", # Household's total net income, all sources\n",
    "                \"uemp3m\", # Ever unemployed and seeking work for a period more than three months\n",
    "                \"ppltrst\", # Most people can be trusted or you can't be too careful\n",
    "                ]"
   ]
  },
  {
   "cell_type": "code",
   "execution_count": 4,
   "id": "e272f11edd83e06e",
   "metadata": {
    "ExecuteTime": {
     "end_time": "2024-01-05T22:36:52.340761800Z",
     "start_time": "2024-01-05T22:36:52.206402200Z"
    }
   },
   "outputs": [],
   "source": [
    "data = pd.read_stata(r\"../data/ESS10SC_STATA/ESS10SC.dta\", columns=columns_used)"
   ]
  },
  {
   "cell_type": "code",
   "execution_count": 5,
   "id": "826c20937cff985b",
   "metadata": {
    "ExecuteTime": {
     "end_time": "2024-01-05T22:36:52.363817800Z",
     "start_time": "2024-01-05T22:36:52.340761800Z"
    }
   },
   "outputs": [
    {
     "name": "stdout",
     "output_type": "stream",
     "text": [
      "<class 'pandas.core.frame.DataFrame'>\n",
      "RangeIndex: 22074 entries, 0 to 22073\n",
      "Data columns (total 8 columns):\n",
      " #   Column    Non-Null Count  Dtype   \n",
      "---  ------    --------------  -----   \n",
      " 0   cntry     22074 non-null  object  \n",
      " 1   agea      21028 non-null  category\n",
      " 2   eduyrs    20074 non-null  category\n",
      " 3   gndr      21439 non-null  category\n",
      " 4   domicil   21291 non-null  category\n",
      " 5   hinctnta  17232 non-null  category\n",
      " 6   uemp3m    20676 non-null  category\n",
      " 7   ppltrst   21921 non-null  category\n",
      "dtypes: category(7), object(1)\n",
      "memory usage: 328.7+ KB\n"
     ]
    }
   ],
   "source": [
    "data.info()"
   ]
  },
  {
   "cell_type": "code",
   "execution_count": 6,
   "id": "b209da4071573efb",
   "metadata": {
    "ExecuteTime": {
     "end_time": "2024-01-05T22:36:52.406530400Z",
     "start_time": "2024-01-05T22:36:52.365818400Z"
    }
   },
   "outputs": [],
   "source": [
    "data[[\"agea\", \"eduyrs\"]] = data[[\"agea\", \"eduyrs\"]].astype(pd.Int64Dtype())"
   ]
  },
  {
   "cell_type": "code",
   "execution_count": 7,
   "id": "62db5a3d53abc2f8",
   "metadata": {
    "ExecuteTime": {
     "end_time": "2024-01-05T22:36:52.433944700Z",
     "start_time": "2024-01-05T22:36:52.375746700Z"
    }
   },
   "outputs": [
    {
     "data": {
      "text/html": [
       "<div>\n",
       "<style scoped>\n",
       "    .dataframe tbody tr th:only-of-type {\n",
       "        vertical-align: middle;\n",
       "    }\n",
       "\n",
       "    .dataframe tbody tr th {\n",
       "        vertical-align: top;\n",
       "    }\n",
       "\n",
       "    .dataframe thead th {\n",
       "        text-align: right;\n",
       "    }\n",
       "</style>\n",
       "<table border=\"1\" class=\"dataframe\">\n",
       "  <thead>\n",
       "    <tr style=\"text-align: right;\">\n",
       "      <th></th>\n",
       "      <th>cntry</th>\n",
       "      <th>agea</th>\n",
       "      <th>eduyrs</th>\n",
       "      <th>gndr</th>\n",
       "      <th>domicil</th>\n",
       "      <th>hinctnta</th>\n",
       "      <th>uemp3m</th>\n",
       "      <th>ppltrst</th>\n",
       "    </tr>\n",
       "  </thead>\n",
       "  <tbody>\n",
       "    <tr>\n",
       "      <th>6676</th>\n",
       "      <td>DE</td>\n",
       "      <td>77</td>\n",
       "      <td>&lt;NA&gt;</td>\n",
       "      <td>Female</td>\n",
       "      <td>NaN</td>\n",
       "      <td>NaN</td>\n",
       "      <td>NaN</td>\n",
       "      <td>2</td>\n",
       "    </tr>\n",
       "    <tr>\n",
       "      <th>14824</th>\n",
       "      <td>IL</td>\n",
       "      <td>42</td>\n",
       "      <td>16</td>\n",
       "      <td>Male</td>\n",
       "      <td>Suburbs or outskirts of big city</td>\n",
       "      <td>H - 10th decile</td>\n",
       "      <td>Yes</td>\n",
       "      <td>7</td>\n",
       "    </tr>\n",
       "    <tr>\n",
       "      <th>18791</th>\n",
       "      <td>RS</td>\n",
       "      <td>61</td>\n",
       "      <td>12</td>\n",
       "      <td>Female</td>\n",
       "      <td>Town or small city</td>\n",
       "      <td>C - 3rd decile</td>\n",
       "      <td>Yes</td>\n",
       "      <td>You can't be too careful</td>\n",
       "    </tr>\n",
       "    <tr>\n",
       "      <th>11088</th>\n",
       "      <td>DE</td>\n",
       "      <td>51</td>\n",
       "      <td>13</td>\n",
       "      <td>Female</td>\n",
       "      <td>Town or small city</td>\n",
       "      <td>S - 6th decile</td>\n",
       "      <td>No</td>\n",
       "      <td>6</td>\n",
       "    </tr>\n",
       "    <tr>\n",
       "      <th>8420</th>\n",
       "      <td>DE</td>\n",
       "      <td>33</td>\n",
       "      <td>15</td>\n",
       "      <td>Male</td>\n",
       "      <td>Country village</td>\n",
       "      <td>R - 2nd decile</td>\n",
       "      <td>No</td>\n",
       "      <td>3</td>\n",
       "    </tr>\n",
       "  </tbody>\n",
       "</table>\n",
       "</div>"
      ],
      "text/plain": [
       "      cntry  agea  eduyrs    gndr                           domicil  \\\n",
       "6676     DE    77    <NA>  Female                               NaN   \n",
       "14824    IL    42      16    Male  Suburbs or outskirts of big city   \n",
       "18791    RS    61      12  Female                Town or small city   \n",
       "11088    DE    51      13  Female                Town or small city   \n",
       "8420     DE    33      15    Male                   Country village   \n",
       "\n",
       "              hinctnta uemp3m                   ppltrst  \n",
       "6676               NaN    NaN                         2  \n",
       "14824  H - 10th decile    Yes                         7  \n",
       "18791   C - 3rd decile    Yes  You can't be too careful  \n",
       "11088   S - 6th decile     No                         6  \n",
       "8420    R - 2nd decile     No                         3  "
      ]
     },
     "execution_count": 7,
     "metadata": {},
     "output_type": "execute_result"
    }
   ],
   "source": [
    "data.sample(5)"
   ]
  },
  {
   "cell_type": "markdown",
   "id": "78a65549d96871a8",
   "metadata": {},
   "source": [
    "## Overall EDA"
   ]
  },
  {
   "cell_type": "code",
   "execution_count": null,
   "id": "f50b63b76afbbf57",
   "metadata": {},
   "outputs": [],
   "source": [
    "profile = ProfileReport(data, title=\"Profiling Report\")\n",
    "profile.to_file(\"../data/EDA_full.html\")"
   ]
  },
  {
   "cell_type": "markdown",
   "id": "bebd2ec818584f",
   "metadata": {},
   "source": [
    "## Modeling"
   ]
  },
  {
   "cell_type": "markdown",
   "id": "53ede38386c93148",
   "metadata": {},
   "source": [
    "### Model for Poland"
   ]
  },
  {
   "cell_type": "markdown",
   "id": "9e8d778c04fd6d53",
   "metadata": {},
   "source": [
    "#### Preprocess data"
   ]
  },
  {
   "cell_type": "code",
   "execution_count": 9,
   "id": "36ed2d7e52ccc61d",
   "metadata": {
    "ExecuteTime": {
     "end_time": "2024-01-05T22:36:58.111288400Z",
     "start_time": "2024-01-05T22:36:58.101649600Z"
    }
   },
   "outputs": [],
   "source": [
    "data_pl = data[data.cntry == \"PL\"].drop(columns=[\"cntry\"])"
   ]
  },
  {
   "cell_type": "code",
   "execution_count": 14,
   "id": "9972132067883913",
   "metadata": {
    "ExecuteTime": {
     "end_time": "2024-01-05T22:51:25.920909Z",
     "start_time": "2024-01-05T22:51:25.900939600Z"
    }
   },
   "outputs": [
    {
     "name": "stdout",
     "output_type": "stream",
     "text": [
      "<class 'pandas.core.frame.DataFrame'>\n",
      "Index: 2065 entries, 16217 to 18281\n",
      "Data columns (total 7 columns):\n",
      " #   Column    Non-Null Count  Dtype   \n",
      "---  ------    --------------  -----   \n",
      " 0   agea      1972 non-null   Int64   \n",
      " 1   eduyrs    1944 non-null   Int64   \n",
      " 2   gndr      2065 non-null   category\n",
      " 3   domicil   1989 non-null   category\n",
      " 4   hinctnta  1579 non-null   category\n",
      " 5   uemp3m    1940 non-null   category\n",
      " 6   ppltrst   2041 non-null   category\n",
      "dtypes: Int64(2), category(5)\n",
      "memory usage: 63.7 KB\n"
     ]
    }
   ],
   "source": [
    "data_pl.info()"
   ]
  },
  {
   "cell_type": "code",
   "execution_count": 15,
   "id": "6315eb0d0a5fd9e1",
   "metadata": {
    "ExecuteTime": {
     "end_time": "2024-01-05T22:55:10.396031500Z",
     "start_time": "2024-01-05T22:55:10.379143100Z"
    }
   },
   "outputs": [
    {
     "data": {
      "text/plain": [
       "agea         93\n",
       "eduyrs      121\n",
       "gndr          0\n",
       "domicil      76\n",
       "hinctnta    486\n",
       "uemp3m      125\n",
       "ppltrst      24\n",
       "dtype: int64"
      ]
     },
     "execution_count": 15,
     "metadata": {},
     "output_type": "execute_result"
    }
   ],
   "source": [
    "data_pl.isna().sum()"
   ]
  },
  {
   "cell_type": "code",
   "execution_count": null,
   "id": "369569eb8a2c4fbf",
   "metadata": {},
   "outputs": [],
   "source": [
    "# ProfileReport(data_pl, title=\"Profiling Report for Poland\").to_file(\"../data/EDA_PL.html\")"
   ]
  },
  {
   "cell_type": "markdown",
   "id": "20fdbcd6eff049af",
   "metadata": {},
   "source": [
    "Number of observations with at least one NaN value"
   ]
  },
  {
   "cell_type": "code",
   "execution_count": 34,
   "id": "b3ec1a91b3889051",
   "metadata": {
    "ExecuteTime": {
     "end_time": "2023-12-31T13:39:05.549048Z",
     "start_time": "2023-12-31T13:39:05.540900300Z"
    }
   },
   "outputs": [
    {
     "data": {
      "text/plain": [
       "600"
      ]
     },
     "execution_count": 34,
     "metadata": {},
     "output_type": "execute_result"
    }
   ],
   "source": [
    "data_pl.loc[data_pl.isna().any(axis=1)].shape[0]"
   ]
  },
  {
   "cell_type": "code",
   "execution_count": 30,
   "id": "21968ce99e619245",
   "metadata": {
    "ExecuteTime": {
     "end_time": "2024-01-05T23:09:26.205472900Z",
     "start_time": "2024-01-05T23:09:26.194409300Z"
    }
   },
   "outputs": [],
   "source": [
    "X_pl = data_pl.dropna().drop(columns=[\"ppltrst\"])\n",
    "y_pl = data_pl.dropna()[\"ppltrst\"]"
   ]
  },
  {
   "cell_type": "code",
   "execution_count": 41,
   "id": "f17ef3882a778712",
   "metadata": {
    "ExecuteTime": {
     "end_time": "2024-01-05T23:11:50.185422200Z",
     "start_time": "2024-01-05T23:11:50.182214100Z"
    }
   },
   "outputs": [],
   "source": [
    "X_pl[[\"agea\", \"eduyrs\"]] = X_pl[[\"agea\", \"eduyrs\"]].astype(int)"
   ]
  },
  {
   "cell_type": "code",
   "execution_count": 51,
   "id": "d421cd3f7545620e",
   "metadata": {
    "ExecuteTime": {
     "end_time": "2024-01-05T23:21:24.654878200Z",
     "start_time": "2024-01-05T23:21:24.644844700Z"
    }
   },
   "outputs": [],
   "source": [
    "encoder = make_column_transformer((OneHotEncoder(drop=\"first\", sparse=False), make_column_selector(dtype_exclude=np.number)), \n",
    "                                  remainder=\"passthrough\",\n",
    "                                  n_jobs=-1, \n",
    "                                  verbose=True, \n",
    "                                  verbose_feature_names_out=False,\n",
    "                                  )"
   ]
  },
  {
   "cell_type": "code",
   "execution_count": 52,
   "id": "208b6d214f2fb372",
   "metadata": {
    "ExecuteTime": {
     "end_time": "2024-01-05T23:21:27.044583400Z",
     "start_time": "2024-01-05T23:21:25.219816300Z"
    }
   },
   "outputs": [],
   "source": [
    "X_pl_transformed = encoder.fit_transform(X_pl)"
   ]
  },
  {
   "cell_type": "markdown",
   "id": "ba0fff26b6372934",
   "metadata": {},
   "source": [
    "#### Build a model"
   ]
  },
  {
   "cell_type": "code",
   "execution_count": null,
   "id": "1a2625aef6acb410",
   "metadata": {},
   "outputs": [],
   "source": [
    "# ordinal logistic regression: https://www.statsmodels.org/stable/examples/notebooks/generated/ordinal_regression.html\n",
    "# https://www.statsmodels.org/dev/generated/statsmodels.miscmodels.ordinal_model.OrderedModel.html\n",
    "model_pl = OrderedModel(endog=y_pl,\n",
    "                       exog=X_pl_transformed,\n",
    "                       distr=\"logit\",\n",
    "                        )\n",
    "res_log = model_pl.fit(method='bfgs', disp=False)"
   ]
  },
  {
   "cell_type": "code",
   "execution_count": 55,
   "id": "b48031715d053522",
   "metadata": {
    "ExecuteTime": {
     "end_time": "2024-01-05T23:21:46.175041200Z",
     "start_time": "2024-01-05T23:21:46.134912300Z"
    }
   },
   "outputs": [
    {
     "data": {
      "text/html": [
       "<table class=\"simpletable\">\n",
       "<caption>OrderedModel Results</caption>\n",
       "<tr>\n",
       "  <th>Dep. Variable:</th>          <td>ppltrst</td>      <th>  Log-Likelihood:    </th> <td> -3035.7</td>\n",
       "</tr>\n",
       "<tr>\n",
       "  <th>Model:</th>               <td>OrderedModel</td>    <th>  AIC:               </th> <td>   6125.</td>\n",
       "</tr>\n",
       "<tr>\n",
       "  <th>Method:</th>           <td>Maximum Likelihood</td> <th>  BIC:               </th> <td>   6268.</td>\n",
       "</tr>\n",
       "<tr>\n",
       "  <th>Date:</th>              <td>Sat, 06 Jan 2024</td>  <th>                     </th>     <td> </td>   \n",
       "</tr>\n",
       "<tr>\n",
       "  <th>Time:</th>                  <td>00:21:46</td>      <th>                     </th>     <td> </td>   \n",
       "</tr>\n",
       "<tr>\n",
       "  <th>No. Observations:</th>       <td>  1465</td>       <th>                     </th>     <td> </td>   \n",
       "</tr>\n",
       "<tr>\n",
       "  <th>Df Residuals:</th>           <td>  1438</td>       <th>                     </th>     <td> </td>   \n",
       "</tr>\n",
       "<tr>\n",
       "  <th>Df Model:</th>               <td>    17</td>       <th>                     </th>     <td> </td>   \n",
       "</tr>\n",
       "</table>\n",
       "<table class=\"simpletable\">\n",
       "<tr>\n",
       "                      <td></td>                        <th>coef</th>     <th>std err</th>      <th>z</th>      <th>P>|z|</th>  <th>[0.025</th>    <th>0.975]</th>  \n",
       "</tr>\n",
       "<tr>\n",
       "  <th>gndr_Male</th>                                <td>    0.0993</td> <td>    0.095</td> <td>    1.048</td> <td> 0.295</td> <td>   -0.086</td> <td>    0.285</td>\n",
       "</tr>\n",
       "<tr>\n",
       "  <th>domicil_Country village</th>                  <td>    0.0238</td> <td>    0.132</td> <td>    0.180</td> <td> 0.857</td> <td>   -0.236</td> <td>    0.283</td>\n",
       "</tr>\n",
       "<tr>\n",
       "  <th>domicil_Farm or home in countryside</th>      <td>   -0.2346</td> <td>    0.262</td> <td>   -0.894</td> <td> 0.371</td> <td>   -0.749</td> <td>    0.280</td>\n",
       "</tr>\n",
       "<tr>\n",
       "  <th>domicil_Suburbs or outskirts of big city</th> <td>    0.1475</td> <td>    0.227</td> <td>    0.650</td> <td> 0.515</td> <td>   -0.297</td> <td>    0.592</td>\n",
       "</tr>\n",
       "<tr>\n",
       "  <th>domicil_Town or small city</th>               <td>    0.0124</td> <td>    0.124</td> <td>    0.100</td> <td> 0.920</td> <td>   -0.231</td> <td>    0.256</td>\n",
       "</tr>\n",
       "<tr>\n",
       "  <th>hinctnta_D - 9th decile</th>                  <td>    0.3707</td> <td>    0.215</td> <td>    1.724</td> <td> 0.085</td> <td>   -0.051</td> <td>    0.792</td>\n",
       "</tr>\n",
       "<tr>\n",
       "  <th>hinctnta_F - 5th decile</th>                  <td>   -0.0717</td> <td>    0.213</td> <td>   -0.336</td> <td> 0.737</td> <td>   -0.490</td> <td>    0.346</td>\n",
       "</tr>\n",
       "<tr>\n",
       "  <th>hinctnta_H - 10th decile</th>                 <td>    0.4566</td> <td>    0.214</td> <td>    2.135</td> <td> 0.033</td> <td>    0.037</td> <td>    0.876</td>\n",
       "</tr>\n",
       "<tr>\n",
       "  <th>hinctnta_J - 1st decile</th>                  <td>    0.1351</td> <td>    0.231</td> <td>    0.585</td> <td> 0.559</td> <td>   -0.318</td> <td>    0.588</td>\n",
       "</tr>\n",
       "<tr>\n",
       "  <th>hinctnta_K - 7th decile</th>                  <td>    0.0903</td> <td>    0.220</td> <td>    0.411</td> <td> 0.681</td> <td>   -0.340</td> <td>    0.521</td>\n",
       "</tr>\n",
       "<tr>\n",
       "  <th>hinctnta_M - 4th decile</th>                  <td>    0.0772</td> <td>    0.212</td> <td>    0.365</td> <td> 0.715</td> <td>   -0.337</td> <td>    0.492</td>\n",
       "</tr>\n",
       "<tr>\n",
       "  <th>hinctnta_P - 8th decile</th>                  <td>    0.1137</td> <td>    0.212</td> <td>    0.536</td> <td> 0.592</td> <td>   -0.302</td> <td>    0.530</td>\n",
       "</tr>\n",
       "<tr>\n",
       "  <th>hinctnta_R - 2nd decile</th>                  <td>    0.3763</td> <td>    0.208</td> <td>    1.809</td> <td> 0.070</td> <td>   -0.031</td> <td>    0.784</td>\n",
       "</tr>\n",
       "<tr>\n",
       "  <th>hinctnta_S - 6th decile</th>                  <td>    0.3199</td> <td>    0.216</td> <td>    1.480</td> <td> 0.139</td> <td>   -0.104</td> <td>    0.743</td>\n",
       "</tr>\n",
       "<tr>\n",
       "  <th>uemp3m_Yes</th>                               <td>   -0.1125</td> <td>    0.100</td> <td>   -1.127</td> <td> 0.260</td> <td>   -0.308</td> <td>    0.083</td>\n",
       "</tr>\n",
       "<tr>\n",
       "  <th>agea</th>                                     <td>   -0.0014</td> <td>    0.003</td> <td>   -0.524</td> <td> 0.600</td> <td>   -0.007</td> <td>    0.004</td>\n",
       "</tr>\n",
       "<tr>\n",
       "  <th>eduyrs</th>                                   <td>    0.0809</td> <td>    0.015</td> <td>    5.267</td> <td> 0.000</td> <td>    0.051</td> <td>    0.111</td>\n",
       "</tr>\n",
       "<tr>\n",
       "  <th>You can't be too careful/1</th>               <td>    0.4741</td> <td>    0.333</td> <td>    1.423</td> <td> 0.155</td> <td>   -0.179</td> <td>    1.127</td>\n",
       "</tr>\n",
       "<tr>\n",
       "  <th>1/2</th>                                      <td>   -1.0492</td> <td>    0.091</td> <td>  -11.503</td> <td> 0.000</td> <td>   -1.228</td> <td>   -0.870</td>\n",
       "</tr>\n",
       "<tr>\n",
       "  <th>2/3</th>                                      <td>   -0.6913</td> <td>    0.072</td> <td>   -9.642</td> <td> 0.000</td> <td>   -0.832</td> <td>   -0.551</td>\n",
       "</tr>\n",
       "<tr>\n",
       "  <th>3/4</th>                                      <td>   -0.7544</td> <td>    0.074</td> <td>  -10.190</td> <td> 0.000</td> <td>   -0.900</td> <td>   -0.609</td>\n",
       "</tr>\n",
       "<tr>\n",
       "  <th>4/5</th>                                      <td>   -1.2072</td> <td>    0.098</td> <td>  -12.260</td> <td> 0.000</td> <td>   -1.400</td> <td>   -1.014</td>\n",
       "</tr>\n",
       "<tr>\n",
       "  <th>5/6</th>                                      <td>   -0.3051</td> <td>    0.068</td> <td>   -4.460</td> <td> 0.000</td> <td>   -0.439</td> <td>   -0.171</td>\n",
       "</tr>\n",
       "<tr>\n",
       "  <th>6/7</th>                                      <td>   -1.0949</td> <td>    0.123</td> <td>   -8.934</td> <td> 0.000</td> <td>   -1.335</td> <td>   -0.855</td>\n",
       "</tr>\n",
       "<tr>\n",
       "  <th>7/8</th>                                      <td>   -0.6517</td> <td>    0.114</td> <td>   -5.709</td> <td> 0.000</td> <td>   -0.875</td> <td>   -0.428</td>\n",
       "</tr>\n",
       "<tr>\n",
       "  <th>8/9</th>                                      <td>   -0.2376</td> <td>    0.122</td> <td>   -1.946</td> <td> 0.052</td> <td>   -0.477</td> <td>    0.002</td>\n",
       "</tr>\n",
       "<tr>\n",
       "  <th>9/Most people can be trusted</th>             <td>   -1.0320</td> <td>    0.235</td> <td>   -4.383</td> <td> 0.000</td> <td>   -1.493</td> <td>   -0.571</td>\n",
       "</tr>\n",
       "</table>"
      ],
      "text/latex": [
       "\\begin{center}\n",
       "\\begin{tabular}{lclc}\n",
       "\\toprule\n",
       "\\textbf{Dep. Variable:}                            &      ppltrst       & \\textbf{  Log-Likelihood:    } &   -3035.7   \\\\\n",
       "\\textbf{Model:}                                    &    OrderedModel    & \\textbf{  AIC:               } &     6125.   \\\\\n",
       "\\textbf{Method:}                                   & Maximum Likelihood & \\textbf{  BIC:               } &     6268.   \\\\\n",
       "\\textbf{Date:}                                     &  Sat, 06 Jan 2024  & \\textbf{                     } &             \\\\\n",
       "\\textbf{Time:}                                     &      00:21:46      & \\textbf{                     } &             \\\\\n",
       "\\textbf{No. Observations:}                         &         1465       & \\textbf{                     } &             \\\\\n",
       "\\textbf{Df Residuals:}                             &         1438       & \\textbf{                     } &             \\\\\n",
       "\\textbf{Df Model:}                                 &           17       & \\textbf{                     } &             \\\\\n",
       "\\bottomrule\n",
       "\\end{tabular}\n",
       "\\begin{tabular}{lcccccc}\n",
       "                                                   & \\textbf{coef} & \\textbf{std err} & \\textbf{z} & \\textbf{P$> |$z$|$} & \\textbf{[0.025} & \\textbf{0.975]}  \\\\\n",
       "\\midrule\n",
       "\\textbf{gndr\\_Male}                                &       0.0993  &        0.095     &     1.048  &         0.295        &       -0.086    &        0.285     \\\\\n",
       "\\textbf{domicil\\_Country village}                  &       0.0238  &        0.132     &     0.180  &         0.857        &       -0.236    &        0.283     \\\\\n",
       "\\textbf{domicil\\_Farm or home in countryside}      &      -0.2346  &        0.262     &    -0.894  &         0.371        &       -0.749    &        0.280     \\\\\n",
       "\\textbf{domicil\\_Suburbs or outskirts of big city} &       0.1475  &        0.227     &     0.650  &         0.515        &       -0.297    &        0.592     \\\\\n",
       "\\textbf{domicil\\_Town or small city}               &       0.0124  &        0.124     &     0.100  &         0.920        &       -0.231    &        0.256     \\\\\n",
       "\\textbf{hinctnta\\_D - 9th decile}                  &       0.3707  &        0.215     &     1.724  &         0.085        &       -0.051    &        0.792     \\\\\n",
       "\\textbf{hinctnta\\_F - 5th decile}                  &      -0.0717  &        0.213     &    -0.336  &         0.737        &       -0.490    &        0.346     \\\\\n",
       "\\textbf{hinctnta\\_H - 10th decile}                 &       0.4566  &        0.214     &     2.135  &         0.033        &        0.037    &        0.876     \\\\\n",
       "\\textbf{hinctnta\\_J - 1st decile}                  &       0.1351  &        0.231     &     0.585  &         0.559        &       -0.318    &        0.588     \\\\\n",
       "\\textbf{hinctnta\\_K - 7th decile}                  &       0.0903  &        0.220     &     0.411  &         0.681        &       -0.340    &        0.521     \\\\\n",
       "\\textbf{hinctnta\\_M - 4th decile}                  &       0.0772  &        0.212     &     0.365  &         0.715        &       -0.337    &        0.492     \\\\\n",
       "\\textbf{hinctnta\\_P - 8th decile}                  &       0.1137  &        0.212     &     0.536  &         0.592        &       -0.302    &        0.530     \\\\\n",
       "\\textbf{hinctnta\\_R - 2nd decile}                  &       0.3763  &        0.208     &     1.809  &         0.070        &       -0.031    &        0.784     \\\\\n",
       "\\textbf{hinctnta\\_S - 6th decile}                  &       0.3199  &        0.216     &     1.480  &         0.139        &       -0.104    &        0.743     \\\\\n",
       "\\textbf{uemp3m\\_Yes}                               &      -0.1125  &        0.100     &    -1.127  &         0.260        &       -0.308    &        0.083     \\\\\n",
       "\\textbf{agea}                                      &      -0.0014  &        0.003     &    -0.524  &         0.600        &       -0.007    &        0.004     \\\\\n",
       "\\textbf{eduyrs}                                    &       0.0809  &        0.015     &     5.267  &         0.000        &        0.051    &        0.111     \\\\\n",
       "\\textbf{You can't be too careful/1}                &       0.4741  &        0.333     &     1.423  &         0.155        &       -0.179    &        1.127     \\\\\n",
       "\\textbf{1/2}                                       &      -1.0492  &        0.091     &   -11.503  &         0.000        &       -1.228    &       -0.870     \\\\\n",
       "\\textbf{2/3}                                       &      -0.6913  &        0.072     &    -9.642  &         0.000        &       -0.832    &       -0.551     \\\\\n",
       "\\textbf{3/4}                                       &      -0.7544  &        0.074     &   -10.190  &         0.000        &       -0.900    &       -0.609     \\\\\n",
       "\\textbf{4/5}                                       &      -1.2072  &        0.098     &   -12.260  &         0.000        &       -1.400    &       -1.014     \\\\\n",
       "\\textbf{5/6}                                       &      -0.3051  &        0.068     &    -4.460  &         0.000        &       -0.439    &       -0.171     \\\\\n",
       "\\textbf{6/7}                                       &      -1.0949  &        0.123     &    -8.934  &         0.000        &       -1.335    &       -0.855     \\\\\n",
       "\\textbf{7/8}                                       &      -0.6517  &        0.114     &    -5.709  &         0.000        &       -0.875    &       -0.428     \\\\\n",
       "\\textbf{8/9}                                       &      -0.2376  &        0.122     &    -1.946  &         0.052        &       -0.477    &        0.002     \\\\\n",
       "\\textbf{9/Most people can be trusted}              &      -1.0320  &        0.235     &    -4.383  &         0.000        &       -1.493    &       -0.571     \\\\\n",
       "\\bottomrule\n",
       "\\end{tabular}\n",
       "%\\caption{OrderedModel Results}\n",
       "\\end{center}"
      ],
      "text/plain": [
       "<class 'statsmodels.iolib.summary.Summary'>\n",
       "\"\"\"\n",
       "                             OrderedModel Results                             \n",
       "==============================================================================\n",
       "Dep. Variable:                ppltrst   Log-Likelihood:                -3035.7\n",
       "Model:                   OrderedModel   AIC:                             6125.\n",
       "Method:            Maximum Likelihood   BIC:                             6268.\n",
       "Date:                Sat, 06 Jan 2024                                         \n",
       "Time:                        00:21:46                                         \n",
       "No. Observations:                1465                                         \n",
       "Df Residuals:                    1438                                         \n",
       "Df Model:                          17                                         \n",
       "============================================================================================================\n",
       "                                               coef    std err          z      P>|z|      [0.025      0.975]\n",
       "------------------------------------------------------------------------------------------------------------\n",
       "gndr_Male                                    0.0993      0.095      1.048      0.295      -0.086       0.285\n",
       "domicil_Country village                      0.0238      0.132      0.180      0.857      -0.236       0.283\n",
       "domicil_Farm or home in countryside         -0.2346      0.262     -0.894      0.371      -0.749       0.280\n",
       "domicil_Suburbs or outskirts of big city     0.1475      0.227      0.650      0.515      -0.297       0.592\n",
       "domicil_Town or small city                   0.0124      0.124      0.100      0.920      -0.231       0.256\n",
       "hinctnta_D - 9th decile                      0.3707      0.215      1.724      0.085      -0.051       0.792\n",
       "hinctnta_F - 5th decile                     -0.0717      0.213     -0.336      0.737      -0.490       0.346\n",
       "hinctnta_H - 10th decile                     0.4566      0.214      2.135      0.033       0.037       0.876\n",
       "hinctnta_J - 1st decile                      0.1351      0.231      0.585      0.559      -0.318       0.588\n",
       "hinctnta_K - 7th decile                      0.0903      0.220      0.411      0.681      -0.340       0.521\n",
       "hinctnta_M - 4th decile                      0.0772      0.212      0.365      0.715      -0.337       0.492\n",
       "hinctnta_P - 8th decile                      0.1137      0.212      0.536      0.592      -0.302       0.530\n",
       "hinctnta_R - 2nd decile                      0.3763      0.208      1.809      0.070      -0.031       0.784\n",
       "hinctnta_S - 6th decile                      0.3199      0.216      1.480      0.139      -0.104       0.743\n",
       "uemp3m_Yes                                  -0.1125      0.100     -1.127      0.260      -0.308       0.083\n",
       "agea                                        -0.0014      0.003     -0.524      0.600      -0.007       0.004\n",
       "eduyrs                                       0.0809      0.015      5.267      0.000       0.051       0.111\n",
       "You can't be too careful/1                   0.4741      0.333      1.423      0.155      -0.179       1.127\n",
       "1/2                                         -1.0492      0.091    -11.503      0.000      -1.228      -0.870\n",
       "2/3                                         -0.6913      0.072     -9.642      0.000      -0.832      -0.551\n",
       "3/4                                         -0.7544      0.074    -10.190      0.000      -0.900      -0.609\n",
       "4/5                                         -1.2072      0.098    -12.260      0.000      -1.400      -1.014\n",
       "5/6                                         -0.3051      0.068     -4.460      0.000      -0.439      -0.171\n",
       "6/7                                         -1.0949      0.123     -8.934      0.000      -1.335      -0.855\n",
       "7/8                                         -0.6517      0.114     -5.709      0.000      -0.875      -0.428\n",
       "8/9                                         -0.2376      0.122     -1.946      0.052      -0.477       0.002\n",
       "9/Most people can be trusted                -1.0320      0.235     -4.383      0.000      -1.493      -0.571\n",
       "============================================================================================================\n",
       "\"\"\""
      ]
     },
     "execution_count": 55,
     "metadata": {},
     "output_type": "execute_result"
    }
   ],
   "source": [
    "res_log.summary()"
   ]
  },
  {
   "cell_type": "markdown",
   "id": "1dbbb9e3a193702a",
   "metadata": {},
   "source": [
    "### Model for Sweden"
   ]
  },
  {
   "cell_type": "code",
   "execution_count": 21,
   "id": "bfb2a1cfd4417476",
   "metadata": {
    "ExecuteTime": {
     "end_time": "2023-12-31T13:34:20.863908600Z",
     "start_time": "2023-12-31T13:34:20.856626Z"
    }
   },
   "outputs": [],
   "source": [
    "data_se = data[data.cntry == \"SE\"].drop(columns=[\"cntry\"])"
   ]
  },
  {
   "cell_type": "code",
   "execution_count": null,
   "id": "f7de71459ac295e9",
   "metadata": {},
   "outputs": [],
   "source": [
    "profile = ProfileReport(data_se, title=\"Profiling Report for Sweden\")\n",
    "profile.to_file(\"../data/EDA_SE.html\")"
   ]
  },
  {
   "cell_type": "code",
   "execution_count": null,
   "id": "f74b9d4058ab22be",
   "metadata": {},
   "outputs": [],
   "source": []
  },
  {
   "cell_type": "code",
   "execution_count": null,
   "id": "608e90606a3c2048",
   "metadata": {},
   "outputs": [],
   "source": [
    "model_se = OrderedModel(endog=None,\n",
    "                       exog=None,\n",
    "                       distr=\"logit\")\n",
    "res_log = model_se.fit(method='bfgs', disp=False)\n",
    "res_log.summary()"
   ]
  }
 ],
 "metadata": {
  "kernelspec": {
   "display_name": "Python 3 (ipykernel)",
   "language": "python",
   "name": "python3"
  },
  "language_info": {
   "codemirror_mode": {
    "name": "ipython",
    "version": 3
   },
   "file_extension": ".py",
   "mimetype": "text/x-python",
   "name": "python",
   "nbconvert_exporter": "python",
   "pygments_lexer": "ipython3",
   "version": "3.11.4"
  }
 },
 "nbformat": 4,
 "nbformat_minor": 5
}
