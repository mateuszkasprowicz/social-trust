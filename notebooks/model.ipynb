{
 "cells": [
  {
   "attachments": {},
   "cell_type": "markdown",
   "id": "82bf2bea55bc3a4d",
   "metadata": {},
   "source": [
    "# Selected socio-economic determinants of social trust\n",
    "\n",
    "Author: Mateusz Kasprowicz\n",
    "Date: January 2024"
   ]
  },
  {
   "cell_type": "markdown",
   "id": "e1f707f51ac62e9d",
   "metadata": {},
   "source": [
    "## Load libraries"
   ]
  },
  {
   "cell_type": "code",
   "execution_count": 1,
   "id": "f46af5316d9f43a",
   "metadata": {
    "ExecuteTime": {
     "end_time": "2024-01-07T15:40:02.878072600Z",
     "start_time": "2024-01-07T15:40:00.567223600Z"
    }
   },
   "outputs": [],
   "source": [
    "import random\n",
    "import os\n",
    "\n",
    "import pandas as pd\n",
    "from ydata_profiling import ProfileReport\n",
    "import numpy as np\n",
    "\n",
    "import matplotlib as mpl\n",
    "import matplotlib.pyplot as plt\n",
    "import seaborn as sns\n",
    "import plotly.express as px\n",
    "\n",
    "import sklearn\n",
    "from sklearn.impute import SimpleImputer\n",
    "from sklearn.compose import make_column_transformer, make_column_selector\n",
    "from sklearn.preprocessing import OneHotEncoder\n",
    "import statsmodels.api as sm\n",
    "from statsmodels.miscmodels.ordinal_model import OrderedModel"
   ]
  },
  {
   "cell_type": "markdown",
   "id": "2a90c1d8251a7467",
   "metadata": {},
   "source": [
    "## Constants"
   ]
  },
  {
   "cell_type": "code",
   "execution_count": 2,
   "id": "ed6791f39f0e2f96",
   "metadata": {
    "ExecuteTime": {
     "end_time": "2024-01-07T16:09:12.707134200Z",
     "start_time": "2024-01-07T16:09:12.695756900Z"
    }
   },
   "outputs": [],
   "source": [
    "random_state = 0\n",
    "\n",
    "np.random.seed(random_state)\n",
    "os.environ[\"PYTHONHASHSEED\"] = str(random_state)\n",
    "random.seed(random_state)"
   ]
  },
  {
   "cell_type": "code",
   "execution_count": 3,
   "id": "9227b33b8f7545a8",
   "metadata": {
    "ExecuteTime": {
     "end_time": "2024-01-07T16:09:13.017048600Z",
     "start_time": "2024-01-07T16:09:13.005456800Z"
    }
   },
   "outputs": [],
   "source": [
    "sklearn.set_config(transform_output=\"pandas\")"
   ]
  },
  {
   "cell_type": "markdown",
   "id": "3b180d1efaa27d29",
   "metadata": {},
   "source": [
    "## Load data"
   ]
  },
  {
   "cell_type": "code",
   "execution_count": 4,
   "id": "be4b9de61dc09d4f",
   "metadata": {
    "ExecuteTime": {
     "end_time": "2024-01-07T16:09:13.810208500Z",
     "start_time": "2024-01-07T16:09:13.803127800Z"
    }
   },
   "outputs": [],
   "source": [
    "columns_used = [\"cntry\", \n",
    "                \"agea\", \n",
    "                \"eduyrs\", \n",
    "                \"gndr\", \n",
    "                \"domicil\", # A big city, suburbs, town or small city, country village, etc.\n",
    "                \"hinctnta\", # Household's total net income, all sources\n",
    "                \"uemp3m\", # Ever unemployed and seeking work for a period more than three months\n",
    "                \"ppltrst\", # Most people can be trusted or you can't be too careful\n",
    "                ]"
   ]
  },
  {
   "cell_type": "code",
   "execution_count": 5,
   "id": "e272f11edd83e06e",
   "metadata": {
    "ExecuteTime": {
     "end_time": "2024-01-07T16:09:14.263550700Z",
     "start_time": "2024-01-07T16:09:14.121630100Z"
    }
   },
   "outputs": [],
   "source": [
    "data = pd.read_stata(r\"../data/ESS10SC_STATA/ESS10SC.dta\", columns=columns_used)"
   ]
  },
  {
   "cell_type": "code",
   "execution_count": 6,
   "id": "826c20937cff985b",
   "metadata": {
    "ExecuteTime": {
     "end_time": "2024-01-07T16:09:14.726797200Z",
     "start_time": "2024-01-07T16:09:14.703628100Z"
    }
   },
   "outputs": [
    {
     "name": "stdout",
     "output_type": "stream",
     "text": [
      "<class 'pandas.core.frame.DataFrame'>\n",
      "RangeIndex: 22074 entries, 0 to 22073\n",
      "Data columns (total 8 columns):\n",
      " #   Column    Non-Null Count  Dtype   \n",
      "---  ------    --------------  -----   \n",
      " 0   cntry     22074 non-null  object  \n",
      " 1   agea      21028 non-null  category\n",
      " 2   eduyrs    20074 non-null  category\n",
      " 3   gndr      21439 non-null  category\n",
      " 4   domicil   21291 non-null  category\n",
      " 5   hinctnta  17232 non-null  category\n",
      " 6   uemp3m    20676 non-null  category\n",
      " 7   ppltrst   21921 non-null  category\n",
      "dtypes: category(7), object(1)\n",
      "memory usage: 328.7+ KB\n"
     ]
    }
   ],
   "source": [
    "data.info()"
   ]
  },
  {
   "cell_type": "code",
   "execution_count": 7,
   "id": "b209da4071573efb",
   "metadata": {
    "ExecuteTime": {
     "end_time": "2024-01-07T16:09:15.047207300Z",
     "start_time": "2024-01-07T16:09:15.006995200Z"
    }
   },
   "outputs": [],
   "source": [
    "data[[\"agea\", \"eduyrs\"]] = data[[\"agea\", \"eduyrs\"]].astype(pd.Int64Dtype())"
   ]
  },
  {
   "cell_type": "code",
   "execution_count": 8,
   "id": "62db5a3d53abc2f8",
   "metadata": {
    "ExecuteTime": {
     "end_time": "2024-01-07T16:09:15.637234200Z",
     "start_time": "2024-01-07T16:09:15.607158600Z"
    }
   },
   "outputs": [
    {
     "data": {
      "text/html": [
       "<div>\n",
       "<style scoped>\n",
       "    .dataframe tbody tr th:only-of-type {\n",
       "        vertical-align: middle;\n",
       "    }\n",
       "\n",
       "    .dataframe tbody tr th {\n",
       "        vertical-align: top;\n",
       "    }\n",
       "\n",
       "    .dataframe thead th {\n",
       "        text-align: right;\n",
       "    }\n",
       "</style>\n",
       "<table border=\"1\" class=\"dataframe\">\n",
       "  <thead>\n",
       "    <tr style=\"text-align: right;\">\n",
       "      <th></th>\n",
       "      <th>cntry</th>\n",
       "      <th>agea</th>\n",
       "      <th>eduyrs</th>\n",
       "      <th>gndr</th>\n",
       "      <th>domicil</th>\n",
       "      <th>hinctnta</th>\n",
       "      <th>uemp3m</th>\n",
       "      <th>ppltrst</th>\n",
       "    </tr>\n",
       "  </thead>\n",
       "  <tbody>\n",
       "    <tr>\n",
       "      <th>6676</th>\n",
       "      <td>DE</td>\n",
       "      <td>77</td>\n",
       "      <td>&lt;NA&gt;</td>\n",
       "      <td>Female</td>\n",
       "      <td>NaN</td>\n",
       "      <td>NaN</td>\n",
       "      <td>NaN</td>\n",
       "      <td>2</td>\n",
       "    </tr>\n",
       "    <tr>\n",
       "      <th>14824</th>\n",
       "      <td>IL</td>\n",
       "      <td>42</td>\n",
       "      <td>16</td>\n",
       "      <td>Male</td>\n",
       "      <td>Suburbs or outskirts of big city</td>\n",
       "      <td>H - 10th decile</td>\n",
       "      <td>Yes</td>\n",
       "      <td>7</td>\n",
       "    </tr>\n",
       "    <tr>\n",
       "      <th>18791</th>\n",
       "      <td>RS</td>\n",
       "      <td>61</td>\n",
       "      <td>12</td>\n",
       "      <td>Female</td>\n",
       "      <td>Town or small city</td>\n",
       "      <td>C - 3rd decile</td>\n",
       "      <td>Yes</td>\n",
       "      <td>You can't be too careful</td>\n",
       "    </tr>\n",
       "    <tr>\n",
       "      <th>11088</th>\n",
       "      <td>DE</td>\n",
       "      <td>51</td>\n",
       "      <td>13</td>\n",
       "      <td>Female</td>\n",
       "      <td>Town or small city</td>\n",
       "      <td>S - 6th decile</td>\n",
       "      <td>No</td>\n",
       "      <td>6</td>\n",
       "    </tr>\n",
       "    <tr>\n",
       "      <th>8420</th>\n",
       "      <td>DE</td>\n",
       "      <td>33</td>\n",
       "      <td>15</td>\n",
       "      <td>Male</td>\n",
       "      <td>Country village</td>\n",
       "      <td>R - 2nd decile</td>\n",
       "      <td>No</td>\n",
       "      <td>3</td>\n",
       "    </tr>\n",
       "  </tbody>\n",
       "</table>\n",
       "</div>"
      ],
      "text/plain": [
       "      cntry  agea  eduyrs    gndr                           domicil  \\\n",
       "6676     DE    77    <NA>  Female                               NaN   \n",
       "14824    IL    42      16    Male  Suburbs or outskirts of big city   \n",
       "18791    RS    61      12  Female                Town or small city   \n",
       "11088    DE    51      13  Female                Town or small city   \n",
       "8420     DE    33      15    Male                   Country village   \n",
       "\n",
       "              hinctnta uemp3m                   ppltrst  \n",
       "6676               NaN    NaN                         2  \n",
       "14824  H - 10th decile    Yes                         7  \n",
       "18791   C - 3rd decile    Yes  You can't be too careful  \n",
       "11088   S - 6th decile     No                         6  \n",
       "8420    R - 2nd decile     No                         3  "
      ]
     },
     "execution_count": 8,
     "metadata": {},
     "output_type": "execute_result"
    }
   ],
   "source": [
    "data.sample(5)"
   ]
  },
  {
   "cell_type": "markdown",
   "id": "78a65549d96871a8",
   "metadata": {},
   "source": [
    "## Overall EDA"
   ]
  },
  {
   "cell_type": "code",
   "execution_count": 9,
   "id": "f50b63b76afbbf57",
   "metadata": {},
   "outputs": [],
   "source": [
    "# ProfileReport(data, title=\"Profiling Report\").to_file(\"../data/EDA_full.html\")"
   ]
  },
  {
   "cell_type": "markdown",
   "id": "bebd2ec818584f",
   "metadata": {},
   "source": [
    "## Modeling"
   ]
  },
  {
   "cell_type": "markdown",
   "id": "53ede38386c93148",
   "metadata": {},
   "source": [
    "### Model for Poland"
   ]
  },
  {
   "cell_type": "markdown",
   "id": "9e8d778c04fd6d53",
   "metadata": {},
   "source": [
    "#### Preprocess data"
   ]
  },
  {
   "cell_type": "code",
   "execution_count": 10,
   "id": "36ed2d7e52ccc61d",
   "metadata": {
    "ExecuteTime": {
     "end_time": "2024-01-07T16:09:42.169320800Z",
     "start_time": "2024-01-07T16:09:42.157477500Z"
    }
   },
   "outputs": [],
   "source": [
    "data_pl = data.loc[data.cntry == \"PL\"].drop(columns=[\"cntry\"])"
   ]
  },
  {
   "cell_type": "code",
   "execution_count": 11,
   "id": "9972132067883913",
   "metadata": {
    "ExecuteTime": {
     "end_time": "2024-01-07T16:09:42.847280400Z",
     "start_time": "2024-01-07T16:09:42.832078800Z"
    }
   },
   "outputs": [
    {
     "name": "stdout",
     "output_type": "stream",
     "text": [
      "<class 'pandas.core.frame.DataFrame'>\n",
      "Index: 2065 entries, 16217 to 18281\n",
      "Data columns (total 7 columns):\n",
      " #   Column    Non-Null Count  Dtype   \n",
      "---  ------    --------------  -----   \n",
      " 0   agea      1972 non-null   Int64   \n",
      " 1   eduyrs    1944 non-null   Int64   \n",
      " 2   gndr      2065 non-null   category\n",
      " 3   domicil   1989 non-null   category\n",
      " 4   hinctnta  1579 non-null   category\n",
      " 5   uemp3m    1940 non-null   category\n",
      " 6   ppltrst   2041 non-null   category\n",
      "dtypes: Int64(2), category(5)\n",
      "memory usage: 63.7 KB\n"
     ]
    }
   ],
   "source": [
    "data_pl.info()"
   ]
  },
  {
   "cell_type": "code",
   "execution_count": 12,
   "id": "6315eb0d0a5fd9e1",
   "metadata": {
    "ExecuteTime": {
     "end_time": "2024-01-07T16:09:44.237152600Z",
     "start_time": "2024-01-07T16:09:44.229083900Z"
    }
   },
   "outputs": [
    {
     "data": {
      "text/plain": [
       "agea         93\n",
       "eduyrs      121\n",
       "gndr          0\n",
       "domicil      76\n",
       "hinctnta    486\n",
       "uemp3m      125\n",
       "ppltrst      24\n",
       "dtype: int64"
      ]
     },
     "execution_count": 12,
     "metadata": {},
     "output_type": "execute_result"
    }
   ],
   "source": [
    "data_pl.isna().sum()"
   ]
  },
  {
   "cell_type": "code",
   "execution_count": 13,
   "id": "369569eb8a2c4fbf",
   "metadata": {},
   "outputs": [],
   "source": [
    "# ProfileReport(data_se, title=\"Profiling Report for Poland\").to_file(\"../data/EDA_PL.html\")"
   ]
  },
  {
   "cell_type": "markdown",
   "id": "20fdbcd6eff049af",
   "metadata": {},
   "source": [
    "Number of observations with at least one NaN value"
   ]
  },
  {
   "cell_type": "code",
   "execution_count": 14,
   "id": "b3ec1a91b3889051",
   "metadata": {
    "ExecuteTime": {
     "end_time": "2024-01-07T16:12:03.513420200Z",
     "start_time": "2024-01-07T16:12:03.497075900Z"
    }
   },
   "outputs": [
    {
     "data": {
      "text/plain": [
       "600"
      ]
     },
     "execution_count": 14,
     "metadata": {},
     "output_type": "execute_result"
    }
   ],
   "source": [
    "data_pl.loc[data_pl.isna().any(axis=1)].shape[0]"
   ]
  },
  {
   "cell_type": "code",
   "execution_count": 37,
   "id": "21968ce99e619245",
   "metadata": {
    "ExecuteTime": {
     "end_time": "2024-01-07T16:14:33.165263700Z",
     "start_time": "2024-01-07T16:14:33.140836200Z"
    },
    "collapsed": false
   },
   "outputs": [],
   "source": [
    "data_pl_preprocessed = data_pl.dropna()"
   ]
  },
  {
   "cell_type": "code",
   "execution_count": 40,
   "id": "f17ef3882a778712",
   "metadata": {
    "ExecuteTime": {
     "end_time": "2024-01-07T16:15:34.723582700Z",
     "start_time": "2024-01-07T16:15:34.716991800Z"
    }
   },
   "outputs": [
    {
     "name": "stderr",
     "output_type": "stream",
     "text": [
      "C:\\Users\\Mateusz\\AppData\\Local\\Temp\\ipykernel_23604\\3899853243.py:1: SettingWithCopyWarning: \n",
      "A value is trying to be set on a copy of a slice from a DataFrame.\n",
      "Try using .loc[row_indexer,col_indexer] = value instead\n",
      "\n",
      "See the caveats in the documentation: https://pandas.pydata.org/pandas-docs/stable/user_guide/indexing.html#returning-a-view-versus-a-copy\n",
      "  data_pl_preprocessed[[\"agea\", \"eduyrs\"]] = data_pl_preprocessed[[\"agea\", \"eduyrs\"]].astype(int)\n"
     ]
    }
   ],
   "source": [
    "data_pl_preprocessed[[\"agea\", \"eduyrs\"]] = data_pl_preprocessed[[\"agea\", \"eduyrs\"]].astype(int)"
   ]
  },
  {
   "cell_type": "code",
   "execution_count": 53,
   "id": "1ce2915c",
   "metadata": {},
   "outputs": [],
   "source": [
    "data_pl_preprocessed = data_pl_preprocessed.assign(top_20pct = np.where((data_pl_preprocessed.hinctnta == \"H - 10th decile\") | (data_pl_preprocessed.hinctnta == \"D - 9th decile\"), 1, 0)).drop(columns=[\"hinctnta\"])"
   ]
  },
  {
   "cell_type": "markdown",
   "id": "ba0fff26b6372934",
   "metadata": {},
   "source": [
    "#### Build a model"
   ]
  },
  {
   "cell_type": "code",
   "execution_count": 41,
   "id": "1a2625aef6acb410",
   "metadata": {
    "ExecuteTime": {
     "end_time": "2024-01-07T16:17:42.261598900Z",
     "start_time": "2024-01-07T16:17:40.304533200Z"
    }
   },
   "outputs": [],
   "source": [
    "# ordinal logistic regression: https://www.statsmodels.org/stable/examples/notebooks/generated/ordinal_regression.html\n",
    "# https://www.statsmodels.org/dev/generated/statsmodels.miscmodels.ordinal_model.OrderedModel.html\n",
    "model_pl = OrderedModel.from_formula(\"ppltrst ~ agea + eduyrs + gndr + domicil + hinctnta + uemp3m\", data_pl_preprocessed, distr=\"logit\")\n",
    "\n",
    "res_log = model_pl.fit(method='bfgs', disp=False)"
   ]
  },
  {
   "cell_type": "code",
   "execution_count": 42,
   "id": "b48031715d053522",
   "metadata": {
    "ExecuteTime": {
     "end_time": "2024-01-07T16:17:44.041305600Z",
     "start_time": "2024-01-07T16:17:43.979721600Z"
    }
   },
   "outputs": [
    {
     "data": {
      "text/html": [
       "<table class=\"simpletable\">\n",
       "<caption>OrderedModel Results</caption>\n",
       "<tr>\n",
       "  <th>Dep. Variable:</th>          <td>ppltrst</td>      <th>  Log-Likelihood:    </th> <td> -3035.7</td>\n",
       "</tr>\n",
       "<tr>\n",
       "  <th>Model:</th>               <td>OrderedModel</td>    <th>  AIC:               </th> <td>   6125.</td>\n",
       "</tr>\n",
       "<tr>\n",
       "  <th>Method:</th>           <td>Maximum Likelihood</td> <th>  BIC:               </th> <td>   6268.</td>\n",
       "</tr>\n",
       "<tr>\n",
       "  <th>Date:</th>              <td>Sun, 07 Jan 2024</td>  <th>                     </th>     <td> </td>   \n",
       "</tr>\n",
       "<tr>\n",
       "  <th>Time:</th>                  <td>20:13:33</td>      <th>                     </th>     <td> </td>   \n",
       "</tr>\n",
       "<tr>\n",
       "  <th>No. Observations:</th>       <td>  1465</td>       <th>                     </th>     <td> </td>   \n",
       "</tr>\n",
       "<tr>\n",
       "  <th>Df Residuals:</th>           <td>  1438</td>       <th>                     </th>     <td> </td>   \n",
       "</tr>\n",
       "<tr>\n",
       "  <th>Df Model:</th>               <td>    17</td>       <th>                     </th>     <td> </td>   \n",
       "</tr>\n",
       "</table>\n",
       "<table class=\"simpletable\">\n",
       "<tr>\n",
       "                       <td></td>                          <th>coef</th>     <th>std err</th>      <th>z</th>      <th>P>|z|</th>  <th>[0.025</th>    <th>0.975]</th>  \n",
       "</tr>\n",
       "<tr>\n",
       "  <th>gndr[T.Female]</th>                              <td>   -0.0993</td> <td>    0.095</td> <td>   -1.048</td> <td> 0.295</td> <td>   -0.285</td> <td>    0.086</td>\n",
       "</tr>\n",
       "<tr>\n",
       "  <th>domicil[T.Suburbs or outskirts of big city]</th> <td>    0.1469</td> <td>    0.227</td> <td>    0.648</td> <td> 0.517</td> <td>   -0.298</td> <td>    0.591</td>\n",
       "</tr>\n",
       "<tr>\n",
       "  <th>domicil[T.Town or small city]</th>               <td>    0.0123</td> <td>    0.124</td> <td>    0.099</td> <td> 0.921</td> <td>   -0.231</td> <td>    0.256</td>\n",
       "</tr>\n",
       "<tr>\n",
       "  <th>domicil[T.Country village]</th>                  <td>    0.0237</td> <td>    0.132</td> <td>    0.179</td> <td> 0.858</td> <td>   -0.236</td> <td>    0.283</td>\n",
       "</tr>\n",
       "<tr>\n",
       "  <th>domicil[T.Farm or home in countryside]</th>      <td>   -0.2343</td> <td>    0.262</td> <td>   -0.893</td> <td> 0.372</td> <td>   -0.748</td> <td>    0.280</td>\n",
       "</tr>\n",
       "<tr>\n",
       "  <th>hinctnta[T.R - 2nd decile]</th>                  <td>    0.2412</td> <td>    0.219</td> <td>    1.103</td> <td> 0.270</td> <td>   -0.188</td> <td>    0.670</td>\n",
       "</tr>\n",
       "<tr>\n",
       "  <th>hinctnta[T.C - 3rd decile]</th>                  <td>   -0.1351</td> <td>    0.231</td> <td>   -0.585</td> <td> 0.559</td> <td>   -0.588</td> <td>    0.318</td>\n",
       "</tr>\n",
       "<tr>\n",
       "  <th>hinctnta[T.M - 4th decile]</th>                  <td>   -0.0579</td> <td>    0.226</td> <td>   -0.257</td> <td> 0.797</td> <td>   -0.500</td> <td>    0.384</td>\n",
       "</tr>\n",
       "<tr>\n",
       "  <th>hinctnta[T.F - 5th decile]</th>                  <td>   -0.2068</td> <td>    0.229</td> <td>   -0.905</td> <td> 0.366</td> <td>   -0.655</td> <td>    0.241</td>\n",
       "</tr>\n",
       "<tr>\n",
       "  <th>hinctnta[T.S - 6th decile]</th>                  <td>    0.1848</td> <td>    0.231</td> <td>    0.802</td> <td> 0.423</td> <td>   -0.267</td> <td>    0.637</td>\n",
       "</tr>\n",
       "<tr>\n",
       "  <th>hinctnta[T.K - 7th decile]</th>                  <td>   -0.0449</td> <td>    0.235</td> <td>   -0.191</td> <td> 0.848</td> <td>   -0.505</td> <td>    0.415</td>\n",
       "</tr>\n",
       "<tr>\n",
       "  <th>hinctnta[T.P - 8th decile]</th>                  <td>   -0.0214</td> <td>    0.231</td> <td>   -0.093</td> <td> 0.926</td> <td>   -0.473</td> <td>    0.431</td>\n",
       "</tr>\n",
       "<tr>\n",
       "  <th>hinctnta[T.D - 9th decile]</th>                  <td>    0.2356</td> <td>    0.233</td> <td>    1.011</td> <td> 0.312</td> <td>   -0.221</td> <td>    0.692</td>\n",
       "</tr>\n",
       "<tr>\n",
       "  <th>hinctnta[T.H - 10th decile]</th>                 <td>    0.3215</td> <td>    0.236</td> <td>    1.360</td> <td> 0.174</td> <td>   -0.142</td> <td>    0.785</td>\n",
       "</tr>\n",
       "<tr>\n",
       "  <th>uemp3m[T.No]</th>                                <td>    0.1124</td> <td>    0.100</td> <td>    1.126</td> <td> 0.260</td> <td>   -0.083</td> <td>    0.308</td>\n",
       "</tr>\n",
       "<tr>\n",
       "  <th>agea</th>                                        <td>   -0.0014</td> <td>    0.003</td> <td>   -0.524</td> <td> 0.600</td> <td>   -0.007</td> <td>    0.004</td>\n",
       "</tr>\n",
       "<tr>\n",
       "  <th>eduyrs</th>                                      <td>    0.0809</td> <td>    0.015</td> <td>    5.267</td> <td> 0.000</td> <td>    0.051</td> <td>    0.111</td>\n",
       "</tr>\n",
       "<tr>\n",
       "  <th>You can't be too careful/1</th>                  <td>    0.3522</td> <td>    0.335</td> <td>    1.052</td> <td> 0.293</td> <td>   -0.304</td> <td>    1.009</td>\n",
       "</tr>\n",
       "<tr>\n",
       "  <th>1/2</th>                                         <td>   -1.0493</td> <td>    0.091</td> <td>  -11.503</td> <td> 0.000</td> <td>   -1.228</td> <td>   -0.870</td>\n",
       "</tr>\n",
       "<tr>\n",
       "  <th>2/3</th>                                         <td>   -0.6913</td> <td>    0.072</td> <td>   -9.642</td> <td> 0.000</td> <td>   -0.832</td> <td>   -0.551</td>\n",
       "</tr>\n",
       "<tr>\n",
       "  <th>3/4</th>                                         <td>   -0.7545</td> <td>    0.074</td> <td>  -10.190</td> <td> 0.000</td> <td>   -0.900</td> <td>   -0.609</td>\n",
       "</tr>\n",
       "<tr>\n",
       "  <th>4/5</th>                                         <td>   -1.2072</td> <td>    0.098</td> <td>  -12.259</td> <td> 0.000</td> <td>   -1.400</td> <td>   -1.014</td>\n",
       "</tr>\n",
       "<tr>\n",
       "  <th>5/6</th>                                         <td>   -0.3051</td> <td>    0.068</td> <td>   -4.460</td> <td> 0.000</td> <td>   -0.439</td> <td>   -0.171</td>\n",
       "</tr>\n",
       "<tr>\n",
       "  <th>6/7</th>                                         <td>   -1.0949</td> <td>    0.123</td> <td>   -8.935</td> <td> 0.000</td> <td>   -1.335</td> <td>   -0.855</td>\n",
       "</tr>\n",
       "<tr>\n",
       "  <th>7/8</th>                                         <td>   -0.6517</td> <td>    0.114</td> <td>   -5.709</td> <td> 0.000</td> <td>   -0.875</td> <td>   -0.428</td>\n",
       "</tr>\n",
       "<tr>\n",
       "  <th>8/9</th>                                         <td>   -0.2376</td> <td>    0.122</td> <td>   -1.946</td> <td> 0.052</td> <td>   -0.477</td> <td>    0.002</td>\n",
       "</tr>\n",
       "<tr>\n",
       "  <th>9/Most people can be trusted</th>                <td>   -1.0320</td> <td>    0.235</td> <td>   -4.383</td> <td> 0.000</td> <td>   -1.493</td> <td>   -0.571</td>\n",
       "</tr>\n",
       "</table>"
      ],
      "text/latex": [
       "\\begin{center}\n",
       "\\begin{tabular}{lclc}\n",
       "\\toprule\n",
       "\\textbf{Dep. Variable:}                              &      ppltrst       & \\textbf{  Log-Likelihood:    } &   -3035.7   \\\\\n",
       "\\textbf{Model:}                                      &    OrderedModel    & \\textbf{  AIC:               } &     6125.   \\\\\n",
       "\\textbf{Method:}                                     & Maximum Likelihood & \\textbf{  BIC:               } &     6268.   \\\\\n",
       "\\textbf{Date:}                                       &  Sun, 07 Jan 2024  & \\textbf{                     } &             \\\\\n",
       "\\textbf{Time:}                                       &      20:13:33      & \\textbf{                     } &             \\\\\n",
       "\\textbf{No. Observations:}                           &         1465       & \\textbf{                     } &             \\\\\n",
       "\\textbf{Df Residuals:}                               &         1438       & \\textbf{                     } &             \\\\\n",
       "\\textbf{Df Model:}                                   &           17       & \\textbf{                     } &             \\\\\n",
       "\\bottomrule\n",
       "\\end{tabular}\n",
       "\\begin{tabular}{lcccccc}\n",
       "                                                     & \\textbf{coef} & \\textbf{std err} & \\textbf{z} & \\textbf{P$> |$z$|$} & \\textbf{[0.025} & \\textbf{0.975]}  \\\\\n",
       "\\midrule\n",
       "\\textbf{gndr[T.Female]}                              &      -0.0993  &        0.095     &    -1.048  &         0.295        &       -0.285    &        0.086     \\\\\n",
       "\\textbf{domicil[T.Suburbs or outskirts of big city]} &       0.1469  &        0.227     &     0.648  &         0.517        &       -0.298    &        0.591     \\\\\n",
       "\\textbf{domicil[T.Town or small city]}               &       0.0123  &        0.124     &     0.099  &         0.921        &       -0.231    &        0.256     \\\\\n",
       "\\textbf{domicil[T.Country village]}                  &       0.0237  &        0.132     &     0.179  &         0.858        &       -0.236    &        0.283     \\\\\n",
       "\\textbf{domicil[T.Farm or home in countryside]}      &      -0.2343  &        0.262     &    -0.893  &         0.372        &       -0.748    &        0.280     \\\\\n",
       "\\textbf{hinctnta[T.R - 2nd decile]}                  &       0.2412  &        0.219     &     1.103  &         0.270        &       -0.188    &        0.670     \\\\\n",
       "\\textbf{hinctnta[T.C - 3rd decile]}                  &      -0.1351  &        0.231     &    -0.585  &         0.559        &       -0.588    &        0.318     \\\\\n",
       "\\textbf{hinctnta[T.M - 4th decile]}                  &      -0.0579  &        0.226     &    -0.257  &         0.797        &       -0.500    &        0.384     \\\\\n",
       "\\textbf{hinctnta[T.F - 5th decile]}                  &      -0.2068  &        0.229     &    -0.905  &         0.366        &       -0.655    &        0.241     \\\\\n",
       "\\textbf{hinctnta[T.S - 6th decile]}                  &       0.1848  &        0.231     &     0.802  &         0.423        &       -0.267    &        0.637     \\\\\n",
       "\\textbf{hinctnta[T.K - 7th decile]}                  &      -0.0449  &        0.235     &    -0.191  &         0.848        &       -0.505    &        0.415     \\\\\n",
       "\\textbf{hinctnta[T.P - 8th decile]}                  &      -0.0214  &        0.231     &    -0.093  &         0.926        &       -0.473    &        0.431     \\\\\n",
       "\\textbf{hinctnta[T.D - 9th decile]}                  &       0.2356  &        0.233     &     1.011  &         0.312        &       -0.221    &        0.692     \\\\\n",
       "\\textbf{hinctnta[T.H - 10th decile]}                 &       0.3215  &        0.236     &     1.360  &         0.174        &       -0.142    &        0.785     \\\\\n",
       "\\textbf{uemp3m[T.No]}                                &       0.1124  &        0.100     &     1.126  &         0.260        &       -0.083    &        0.308     \\\\\n",
       "\\textbf{agea}                                        &      -0.0014  &        0.003     &    -0.524  &         0.600        &       -0.007    &        0.004     \\\\\n",
       "\\textbf{eduyrs}                                      &       0.0809  &        0.015     &     5.267  &         0.000        &        0.051    &        0.111     \\\\\n",
       "\\textbf{You can't be too careful/1}                  &       0.3522  &        0.335     &     1.052  &         0.293        &       -0.304    &        1.009     \\\\\n",
       "\\textbf{1/2}                                         &      -1.0493  &        0.091     &   -11.503  &         0.000        &       -1.228    &       -0.870     \\\\\n",
       "\\textbf{2/3}                                         &      -0.6913  &        0.072     &    -9.642  &         0.000        &       -0.832    &       -0.551     \\\\\n",
       "\\textbf{3/4}                                         &      -0.7545  &        0.074     &   -10.190  &         0.000        &       -0.900    &       -0.609     \\\\\n",
       "\\textbf{4/5}                                         &      -1.2072  &        0.098     &   -12.259  &         0.000        &       -1.400    &       -1.014     \\\\\n",
       "\\textbf{5/6}                                         &      -0.3051  &        0.068     &    -4.460  &         0.000        &       -0.439    &       -0.171     \\\\\n",
       "\\textbf{6/7}                                         &      -1.0949  &        0.123     &    -8.935  &         0.000        &       -1.335    &       -0.855     \\\\\n",
       "\\textbf{7/8}                                         &      -0.6517  &        0.114     &    -5.709  &         0.000        &       -0.875    &       -0.428     \\\\\n",
       "\\textbf{8/9}                                         &      -0.2376  &        0.122     &    -1.946  &         0.052        &       -0.477    &        0.002     \\\\\n",
       "\\textbf{9/Most people can be trusted}                &      -1.0320  &        0.235     &    -4.383  &         0.000        &       -1.493    &       -0.571     \\\\\n",
       "\\bottomrule\n",
       "\\end{tabular}\n",
       "%\\caption{OrderedModel Results}\n",
       "\\end{center}"
      ],
      "text/plain": [
       "<class 'statsmodels.iolib.summary.Summary'>\n",
       "\"\"\"\n",
       "                             OrderedModel Results                             \n",
       "==============================================================================\n",
       "Dep. Variable:                ppltrst   Log-Likelihood:                -3035.7\n",
       "Model:                   OrderedModel   AIC:                             6125.\n",
       "Method:            Maximum Likelihood   BIC:                             6268.\n",
       "Date:                Sun, 07 Jan 2024                                         \n",
       "Time:                        20:13:33                                         \n",
       "No. Observations:                1465                                         \n",
       "Df Residuals:                    1438                                         \n",
       "Df Model:                          17                                         \n",
       "===============================================================================================================\n",
       "                                                  coef    std err          z      P>|z|      [0.025      0.975]\n",
       "---------------------------------------------------------------------------------------------------------------\n",
       "gndr[T.Female]                                 -0.0993      0.095     -1.048      0.295      -0.285       0.086\n",
       "domicil[T.Suburbs or outskirts of big city]     0.1469      0.227      0.648      0.517      -0.298       0.591\n",
       "domicil[T.Town or small city]                   0.0123      0.124      0.099      0.921      -0.231       0.256\n",
       "domicil[T.Country village]                      0.0237      0.132      0.179      0.858      -0.236       0.283\n",
       "domicil[T.Farm or home in countryside]         -0.2343      0.262     -0.893      0.372      -0.748       0.280\n",
       "hinctnta[T.R - 2nd decile]                      0.2412      0.219      1.103      0.270      -0.188       0.670\n",
       "hinctnta[T.C - 3rd decile]                     -0.1351      0.231     -0.585      0.559      -0.588       0.318\n",
       "hinctnta[T.M - 4th decile]                     -0.0579      0.226     -0.257      0.797      -0.500       0.384\n",
       "hinctnta[T.F - 5th decile]                     -0.2068      0.229     -0.905      0.366      -0.655       0.241\n",
       "hinctnta[T.S - 6th decile]                      0.1848      0.231      0.802      0.423      -0.267       0.637\n",
       "hinctnta[T.K - 7th decile]                     -0.0449      0.235     -0.191      0.848      -0.505       0.415\n",
       "hinctnta[T.P - 8th decile]                     -0.0214      0.231     -0.093      0.926      -0.473       0.431\n",
       "hinctnta[T.D - 9th decile]                      0.2356      0.233      1.011      0.312      -0.221       0.692\n",
       "hinctnta[T.H - 10th decile]                     0.3215      0.236      1.360      0.174      -0.142       0.785\n",
       "uemp3m[T.No]                                    0.1124      0.100      1.126      0.260      -0.083       0.308\n",
       "agea                                           -0.0014      0.003     -0.524      0.600      -0.007       0.004\n",
       "eduyrs                                          0.0809      0.015      5.267      0.000       0.051       0.111\n",
       "You can't be too careful/1                      0.3522      0.335      1.052      0.293      -0.304       1.009\n",
       "1/2                                            -1.0493      0.091    -11.503      0.000      -1.228      -0.870\n",
       "2/3                                            -0.6913      0.072     -9.642      0.000      -0.832      -0.551\n",
       "3/4                                            -0.7545      0.074    -10.190      0.000      -0.900      -0.609\n",
       "4/5                                            -1.2072      0.098    -12.259      0.000      -1.400      -1.014\n",
       "5/6                                            -0.3051      0.068     -4.460      0.000      -0.439      -0.171\n",
       "6/7                                            -1.0949      0.123     -8.935      0.000      -1.335      -0.855\n",
       "7/8                                            -0.6517      0.114     -5.709      0.000      -0.875      -0.428\n",
       "8/9                                            -0.2376      0.122     -1.946      0.052      -0.477       0.002\n",
       "9/Most people can be trusted                   -1.0320      0.235     -4.383      0.000      -1.493      -0.571\n",
       "===============================================================================================================\n",
       "\"\"\""
      ]
     },
     "execution_count": 42,
     "metadata": {},
     "output_type": "execute_result"
    }
   ],
   "source": [
    "res_log.summary()"
   ]
  },
  {
   "cell_type": "code",
   "execution_count": 65,
   "id": "c5f8c703",
   "metadata": {},
   "outputs": [
    {
     "data": {
      "text/html": [
       "<table class=\"simpletable\">\n",
       "<caption>OrderedModel Results</caption>\n",
       "<tr>\n",
       "  <th>Dep. Variable:</th>          <td>ppltrst</td>      <th>  Log-Likelihood:    </th> <td> -3039.6</td>\n",
       "</tr>\n",
       "<tr>\n",
       "  <th>Model:</th>               <td>OrderedModel</td>    <th>  AIC:               </th> <td>   6117.</td>\n",
       "</tr>\n",
       "<tr>\n",
       "  <th>Method:</th>           <td>Maximum Likelihood</td> <th>  BIC:               </th> <td>   6218.</td>\n",
       "</tr>\n",
       "<tr>\n",
       "  <th>Date:</th>              <td>Sun, 07 Jan 2024</td>  <th>                     </th>     <td> </td>   \n",
       "</tr>\n",
       "<tr>\n",
       "  <th>Time:</th>                  <td>20:38:14</td>      <th>                     </th>     <td> </td>   \n",
       "</tr>\n",
       "<tr>\n",
       "  <th>No. Observations:</th>       <td>  1465</td>       <th>                     </th>     <td> </td>   \n",
       "</tr>\n",
       "<tr>\n",
       "  <th>Df Residuals:</th>           <td>  1446</td>       <th>                     </th>     <td> </td>   \n",
       "</tr>\n",
       "<tr>\n",
       "  <th>Df Model:</th>               <td>     9</td>       <th>                     </th>     <td> </td>   \n",
       "</tr>\n",
       "</table>\n",
       "<table class=\"simpletable\">\n",
       "<tr>\n",
       "                       <td></td>                          <th>coef</th>     <th>std err</th>      <th>z</th>      <th>P>|z|</th>  <th>[0.025</th>    <th>0.975]</th>  \n",
       "</tr>\n",
       "<tr>\n",
       "  <th>gndr[T.Female]</th>                              <td>   -0.1021</td> <td>    0.094</td> <td>   -1.089</td> <td> 0.276</td> <td>   -0.286</td> <td>    0.082</td>\n",
       "</tr>\n",
       "<tr>\n",
       "  <th>domicil[T.Suburbs or outskirts of big city]</th> <td>    0.1362</td> <td>    0.225</td> <td>    0.605</td> <td> 0.545</td> <td>   -0.305</td> <td>    0.577</td>\n",
       "</tr>\n",
       "<tr>\n",
       "  <th>domicil[T.Town or small city]</th>               <td>    0.0333</td> <td>    0.123</td> <td>    0.271</td> <td> 0.787</td> <td>   -0.208</td> <td>    0.274</td>\n",
       "</tr>\n",
       "<tr>\n",
       "  <th>domicil[T.Country village]</th>                  <td>    0.0444</td> <td>    0.132</td> <td>    0.337</td> <td> 0.736</td> <td>   -0.214</td> <td>    0.303</td>\n",
       "</tr>\n",
       "<tr>\n",
       "  <th>domicil[T.Farm or home in countryside]</th>      <td>   -0.2060</td> <td>    0.261</td> <td>   -0.789</td> <td> 0.430</td> <td>   -0.718</td> <td>    0.306</td>\n",
       "</tr>\n",
       "<tr>\n",
       "  <th>uemp3m[T.No]</th>                                <td>    0.0893</td> <td>    0.099</td> <td>    0.905</td> <td> 0.365</td> <td>   -0.104</td> <td>    0.283</td>\n",
       "</tr>\n",
       "<tr>\n",
       "  <th>agea</th>                                        <td>   -0.0012</td> <td>    0.003</td> <td>   -0.459</td> <td> 0.646</td> <td>   -0.006</td> <td>    0.004</td>\n",
       "</tr>\n",
       "<tr>\n",
       "  <th>eduyrs</th>                                      <td>    0.0798</td> <td>    0.015</td> <td>    5.432</td> <td> 0.000</td> <td>    0.051</td> <td>    0.109</td>\n",
       "</tr>\n",
       "<tr>\n",
       "  <th>top_20pct</th>                                   <td>    0.2934</td> <td>    0.120</td> <td>    2.442</td> <td> 0.015</td> <td>    0.058</td> <td>    0.529</td>\n",
       "</tr>\n",
       "<tr>\n",
       "  <th>You can't be too careful/1</th>                  <td>    0.3490</td> <td>    0.296</td> <td>    1.181</td> <td> 0.238</td> <td>   -0.230</td> <td>    0.928</td>\n",
       "</tr>\n",
       "<tr>\n",
       "  <th>1/2</th>                                         <td>   -1.0516</td> <td>    0.091</td> <td>  -11.529</td> <td> 0.000</td> <td>   -1.230</td> <td>   -0.873</td>\n",
       "</tr>\n",
       "<tr>\n",
       "  <th>2/3</th>                                         <td>   -0.6912</td> <td>    0.072</td> <td>   -9.643</td> <td> 0.000</td> <td>   -0.832</td> <td>   -0.551</td>\n",
       "</tr>\n",
       "<tr>\n",
       "  <th>3/4</th>                                         <td>   -0.7557</td> <td>    0.074</td> <td>  -10.209</td> <td> 0.000</td> <td>   -0.901</td> <td>   -0.611</td>\n",
       "</tr>\n",
       "<tr>\n",
       "  <th>4/5</th>                                         <td>   -1.2119</td> <td>    0.098</td> <td>  -12.307</td> <td> 0.000</td> <td>   -1.405</td> <td>   -1.019</td>\n",
       "</tr>\n",
       "<tr>\n",
       "  <th>5/6</th>                                         <td>   -0.3094</td> <td>    0.068</td> <td>   -4.521</td> <td> 0.000</td> <td>   -0.444</td> <td>   -0.175</td>\n",
       "</tr>\n",
       "<tr>\n",
       "  <th>6/7</th>                                         <td>   -1.0980</td> <td>    0.123</td> <td>   -8.957</td> <td> 0.000</td> <td>   -1.338</td> <td>   -0.858</td>\n",
       "</tr>\n",
       "<tr>\n",
       "  <th>7/8</th>                                         <td>   -0.6541</td> <td>    0.114</td> <td>   -5.728</td> <td> 0.000</td> <td>   -0.878</td> <td>   -0.430</td>\n",
       "</tr>\n",
       "<tr>\n",
       "  <th>8/9</th>                                         <td>   -0.2393</td> <td>    0.122</td> <td>   -1.958</td> <td> 0.050</td> <td>   -0.479</td> <td>    0.000</td>\n",
       "</tr>\n",
       "<tr>\n",
       "  <th>9/Most people can be trusted</th>                <td>   -1.0330</td> <td>    0.235</td> <td>   -4.387</td> <td> 0.000</td> <td>   -1.495</td> <td>   -0.572</td>\n",
       "</tr>\n",
       "</table>"
      ],
      "text/latex": [
       "\\begin{center}\n",
       "\\begin{tabular}{lclc}\n",
       "\\toprule\n",
       "\\textbf{Dep. Variable:}                              &      ppltrst       & \\textbf{  Log-Likelihood:    } &   -3039.6   \\\\\n",
       "\\textbf{Model:}                                      &    OrderedModel    & \\textbf{  AIC:               } &     6117.   \\\\\n",
       "\\textbf{Method:}                                     & Maximum Likelihood & \\textbf{  BIC:               } &     6218.   \\\\\n",
       "\\textbf{Date:}                                       &  Sun, 07 Jan 2024  & \\textbf{                     } &             \\\\\n",
       "\\textbf{Time:}                                       &      20:38:14      & \\textbf{                     } &             \\\\\n",
       "\\textbf{No. Observations:}                           &         1465       & \\textbf{                     } &             \\\\\n",
       "\\textbf{Df Residuals:}                               &         1446       & \\textbf{                     } &             \\\\\n",
       "\\textbf{Df Model:}                                   &            9       & \\textbf{                     } &             \\\\\n",
       "\\bottomrule\n",
       "\\end{tabular}\n",
       "\\begin{tabular}{lcccccc}\n",
       "                                                     & \\textbf{coef} & \\textbf{std err} & \\textbf{z} & \\textbf{P$> |$z$|$} & \\textbf{[0.025} & \\textbf{0.975]}  \\\\\n",
       "\\midrule\n",
       "\\textbf{gndr[T.Female]}                              &      -0.1021  &        0.094     &    -1.089  &         0.276        &       -0.286    &        0.082     \\\\\n",
       "\\textbf{domicil[T.Suburbs or outskirts of big city]} &       0.1362  &        0.225     &     0.605  &         0.545        &       -0.305    &        0.577     \\\\\n",
       "\\textbf{domicil[T.Town or small city]}               &       0.0333  &        0.123     &     0.271  &         0.787        &       -0.208    &        0.274     \\\\\n",
       "\\textbf{domicil[T.Country village]}                  &       0.0444  &        0.132     &     0.337  &         0.736        &       -0.214    &        0.303     \\\\\n",
       "\\textbf{domicil[T.Farm or home in countryside]}      &      -0.2060  &        0.261     &    -0.789  &         0.430        &       -0.718    &        0.306     \\\\\n",
       "\\textbf{uemp3m[T.No]}                                &       0.0893  &        0.099     &     0.905  &         0.365        &       -0.104    &        0.283     \\\\\n",
       "\\textbf{agea}                                        &      -0.0012  &        0.003     &    -0.459  &         0.646        &       -0.006    &        0.004     \\\\\n",
       "\\textbf{eduyrs}                                      &       0.0798  &        0.015     &     5.432  &         0.000        &        0.051    &        0.109     \\\\\n",
       "\\textbf{top\\_20pct}                                  &       0.2934  &        0.120     &     2.442  &         0.015        &        0.058    &        0.529     \\\\\n",
       "\\textbf{You can't be too careful/1}                  &       0.3490  &        0.296     &     1.181  &         0.238        &       -0.230    &        0.928     \\\\\n",
       "\\textbf{1/2}                                         &      -1.0516  &        0.091     &   -11.529  &         0.000        &       -1.230    &       -0.873     \\\\\n",
       "\\textbf{2/3}                                         &      -0.6912  &        0.072     &    -9.643  &         0.000        &       -0.832    &       -0.551     \\\\\n",
       "\\textbf{3/4}                                         &      -0.7557  &        0.074     &   -10.209  &         0.000        &       -0.901    &       -0.611     \\\\\n",
       "\\textbf{4/5}                                         &      -1.2119  &        0.098     &   -12.307  &         0.000        &       -1.405    &       -1.019     \\\\\n",
       "\\textbf{5/6}                                         &      -0.3094  &        0.068     &    -4.521  &         0.000        &       -0.444    &       -0.175     \\\\\n",
       "\\textbf{6/7}                                         &      -1.0980  &        0.123     &    -8.957  &         0.000        &       -1.338    &       -0.858     \\\\\n",
       "\\textbf{7/8}                                         &      -0.6541  &        0.114     &    -5.728  &         0.000        &       -0.878    &       -0.430     \\\\\n",
       "\\textbf{8/9}                                         &      -0.2393  &        0.122     &    -1.958  &         0.050        &       -0.479    &        0.000     \\\\\n",
       "\\textbf{9/Most people can be trusted}                &      -1.0330  &        0.235     &    -4.387  &         0.000        &       -1.495    &       -0.572     \\\\\n",
       "\\bottomrule\n",
       "\\end{tabular}\n",
       "%\\caption{OrderedModel Results}\n",
       "\\end{center}"
      ],
      "text/plain": [
       "<class 'statsmodels.iolib.summary.Summary'>\n",
       "\"\"\"\n",
       "                             OrderedModel Results                             \n",
       "==============================================================================\n",
       "Dep. Variable:                ppltrst   Log-Likelihood:                -3039.6\n",
       "Model:                   OrderedModel   AIC:                             6117.\n",
       "Method:            Maximum Likelihood   BIC:                             6218.\n",
       "Date:                Sun, 07 Jan 2024                                         \n",
       "Time:                        20:38:14                                         \n",
       "No. Observations:                1465                                         \n",
       "Df Residuals:                    1446                                         \n",
       "Df Model:                           9                                         \n",
       "===============================================================================================================\n",
       "                                                  coef    std err          z      P>|z|      [0.025      0.975]\n",
       "---------------------------------------------------------------------------------------------------------------\n",
       "gndr[T.Female]                                 -0.1021      0.094     -1.089      0.276      -0.286       0.082\n",
       "domicil[T.Suburbs or outskirts of big city]     0.1362      0.225      0.605      0.545      -0.305       0.577\n",
       "domicil[T.Town or small city]                   0.0333      0.123      0.271      0.787      -0.208       0.274\n",
       "domicil[T.Country village]                      0.0444      0.132      0.337      0.736      -0.214       0.303\n",
       "domicil[T.Farm or home in countryside]         -0.2060      0.261     -0.789      0.430      -0.718       0.306\n",
       "uemp3m[T.No]                                    0.0893      0.099      0.905      0.365      -0.104       0.283\n",
       "agea                                           -0.0012      0.003     -0.459      0.646      -0.006       0.004\n",
       "eduyrs                                          0.0798      0.015      5.432      0.000       0.051       0.109\n",
       "top_20pct                                       0.2934      0.120      2.442      0.015       0.058       0.529\n",
       "You can't be too careful/1                      0.3490      0.296      1.181      0.238      -0.230       0.928\n",
       "1/2                                            -1.0516      0.091    -11.529      0.000      -1.230      -0.873\n",
       "2/3                                            -0.6912      0.072     -9.643      0.000      -0.832      -0.551\n",
       "3/4                                            -0.7557      0.074    -10.209      0.000      -0.901      -0.611\n",
       "4/5                                            -1.2119      0.098    -12.307      0.000      -1.405      -1.019\n",
       "5/6                                            -0.3094      0.068     -4.521      0.000      -0.444      -0.175\n",
       "6/7                                            -1.0980      0.123     -8.957      0.000      -1.338      -0.858\n",
       "7/8                                            -0.6541      0.114     -5.728      0.000      -0.878      -0.430\n",
       "8/9                                            -0.2393      0.122     -1.958      0.050      -0.479       0.000\n",
       "9/Most people can be trusted                   -1.0330      0.235     -4.387      0.000      -1.495      -0.572\n",
       "===============================================================================================================\n",
       "\"\"\""
      ]
     },
     "execution_count": 65,
     "metadata": {},
     "output_type": "execute_result"
    }
   ],
   "source": [
    "model_pl_v2 = OrderedModel.from_formula(\"ppltrst ~ agea + eduyrs + gndr + domicil + top_20pct + uemp3m\", data_pl_preprocessed, distr=\"logit\")\n",
    "\n",
    "res_log = model_pl_v2.fit(method='bfgs', disp=False)\n",
    "res_log.summary()"
   ]
  },
  {
   "cell_type": "markdown",
   "id": "1dbbb9e3a193702a",
   "metadata": {},
   "source": [
    "### Model for Sweden"
   ]
  },
  {
   "cell_type": "code",
   "execution_count": 58,
   "id": "adc95ba2",
   "metadata": {},
   "outputs": [],
   "source": [
    "data_se = data[data.cntry == \"SE\"].drop(columns=[\"cntry\"])"
   ]
  },
  {
   "cell_type": "code",
   "execution_count": 59,
   "id": "b296a651",
   "metadata": {},
   "outputs": [
    {
     "name": "stdout",
     "output_type": "stream",
     "text": [
      "<class 'pandas.core.frame.DataFrame'>\n",
      "Index: 2287 entries, 19787 to 22073\n",
      "Data columns (total 7 columns):\n",
      " #   Column    Non-Null Count  Dtype   \n",
      "---  ------    --------------  -----   \n",
      " 0   agea      2260 non-null   Int64   \n",
      " 1   eduyrs    2125 non-null   Int64   \n",
      " 2   gndr      2280 non-null   category\n",
      " 3   domicil   2279 non-null   category\n",
      " 4   hinctnta  2241 non-null   category\n",
      " 5   uemp3m    2264 non-null   category\n",
      " 6   ppltrst   2272 non-null   category\n",
      "dtypes: Int64(2), category(5)\n",
      "memory usage: 70.4 KB\n"
     ]
    }
   ],
   "source": [
    "data_se.info()"
   ]
  },
  {
   "cell_type": "code",
   "execution_count": 60,
   "id": "5c956627",
   "metadata": {},
   "outputs": [
    {
     "data": {
      "text/plain": [
       "agea         27\n",
       "eduyrs      162\n",
       "gndr          7\n",
       "domicil       8\n",
       "hinctnta     46\n",
       "uemp3m       23\n",
       "ppltrst      15\n",
       "dtype: int64"
      ]
     },
     "execution_count": 60,
     "metadata": {},
     "output_type": "execute_result"
    }
   ],
   "source": [
    "data_se.isna().sum()"
   ]
  },
  {
   "cell_type": "code",
   "execution_count": null,
   "id": "98ce447f",
   "metadata": {},
   "outputs": [],
   "source": [
    "# ProfileReport(data_pl, title=\"Profiling Report for Poland\").to_file(\"../data/EDA_PL.html\")"
   ]
  },
  {
   "cell_type": "markdown",
   "id": "7ac8393f",
   "metadata": {},
   "source": [
    "Number of observations with at least one NaN value"
   ]
  },
  {
   "cell_type": "code",
   "execution_count": 61,
   "id": "c5f30bd7",
   "metadata": {},
   "outputs": [
    {
     "data": {
      "text/plain": [
       "232"
      ]
     },
     "execution_count": 61,
     "metadata": {},
     "output_type": "execute_result"
    }
   ],
   "source": [
    "data_se.loc[data_se.isna().any(axis=1)].shape[0]"
   ]
  },
  {
   "cell_type": "code",
   "execution_count": 62,
   "id": "ebc49235",
   "metadata": {},
   "outputs": [],
   "source": [
    "data_se_preprocessed = data_se.dropna()"
   ]
  },
  {
   "cell_type": "code",
   "execution_count": 63,
   "id": "a8daffa4",
   "metadata": {},
   "outputs": [
    {
     "name": "stderr",
     "output_type": "stream",
     "text": [
      "C:\\Users\\Mateusz\\AppData\\Local\\Temp\\ipykernel_23604\\3950293005.py:1: SettingWithCopyWarning: \n",
      "A value is trying to be set on a copy of a slice from a DataFrame.\n",
      "Try using .loc[row_indexer,col_indexer] = value instead\n",
      "\n",
      "See the caveats in the documentation: https://pandas.pydata.org/pandas-docs/stable/user_guide/indexing.html#returning-a-view-versus-a-copy\n",
      "  data_se_preprocessed[[\"agea\", \"eduyrs\"]] = data_se_preprocessed[[\"agea\", \"eduyrs\"]].astype(int)\n"
     ]
    }
   ],
   "source": [
    "data_se_preprocessed[[\"agea\", \"eduyrs\"]] = data_se_preprocessed[[\"agea\", \"eduyrs\"]].astype(int)"
   ]
  },
  {
   "cell_type": "code",
   "execution_count": 64,
   "id": "d6d2eb06",
   "metadata": {},
   "outputs": [],
   "source": [
    "data_se_preprocessed = data_se_preprocessed.assign(top_20pct = np.where((data_se_preprocessed.hinctnta == \"H - 10th decile\") | (data_se_preprocessed.hinctnta == \"D - 9th decile\"), 1, 0)).drop(columns=[\"hinctnta\"])"
   ]
  },
  {
   "cell_type": "code",
   "execution_count": 66,
   "id": "608e90606a3c2048",
   "metadata": {},
   "outputs": [
    {
     "data": {
      "text/html": [
       "<table class=\"simpletable\">\n",
       "<caption>OrderedModel Results</caption>\n",
       "<tr>\n",
       "  <th>Dep. Variable:</th>          <td>ppltrst</td>      <th>  Log-Likelihood:    </th> <td> -4578.4</td>\n",
       "</tr>\n",
       "<tr>\n",
       "  <th>Model:</th>               <td>OrderedModel</td>    <th>  AIC:               </th> <td>   9195.</td>\n",
       "</tr>\n",
       "<tr>\n",
       "  <th>Method:</th>           <td>Maximum Likelihood</td> <th>  BIC:               </th> <td>   9302.</td>\n",
       "</tr>\n",
       "<tr>\n",
       "  <th>Date:</th>              <td>Sun, 07 Jan 2024</td>  <th>                     </th>     <td> </td>   \n",
       "</tr>\n",
       "<tr>\n",
       "  <th>Time:</th>                  <td>20:38:39</td>      <th>                     </th>     <td> </td>   \n",
       "</tr>\n",
       "<tr>\n",
       "  <th>No. Observations:</th>       <td>  2055</td>       <th>                     </th>     <td> </td>   \n",
       "</tr>\n",
       "<tr>\n",
       "  <th>Df Residuals:</th>           <td>  2036</td>       <th>                     </th>     <td> </td>   \n",
       "</tr>\n",
       "<tr>\n",
       "  <th>Df Model:</th>               <td>     9</td>       <th>                     </th>     <td> </td>   \n",
       "</tr>\n",
       "</table>\n",
       "<table class=\"simpletable\">\n",
       "<tr>\n",
       "                       <td></td>                          <th>coef</th>     <th>std err</th>      <th>z</th>      <th>P>|z|</th>  <th>[0.025</th>    <th>0.975]</th>  \n",
       "</tr>\n",
       "<tr>\n",
       "  <th>gndr[T.Female]</th>                              <td>   -0.0899</td> <td>    0.078</td> <td>   -1.155</td> <td> 0.248</td> <td>   -0.243</td> <td>    0.063</td>\n",
       "</tr>\n",
       "<tr>\n",
       "  <th>domicil[T.Suburbs or outskirts of big city]</th> <td>   -0.0248</td> <td>    0.119</td> <td>   -0.207</td> <td> 0.836</td> <td>   -0.259</td> <td>    0.209</td>\n",
       "</tr>\n",
       "<tr>\n",
       "  <th>domicil[T.Town or small city]</th>               <td>   -0.1105</td> <td>    0.112</td> <td>   -0.987</td> <td> 0.324</td> <td>   -0.330</td> <td>    0.109</td>\n",
       "</tr>\n",
       "<tr>\n",
       "  <th>domicil[T.Country village]</th>                  <td>   -0.0396</td> <td>    0.137</td> <td>   -0.288</td> <td> 0.773</td> <td>   -0.308</td> <td>    0.229</td>\n",
       "</tr>\n",
       "<tr>\n",
       "  <th>domicil[T.Farm or home in countryside]</th>      <td>   -0.0684</td> <td>    0.153</td> <td>   -0.448</td> <td> 0.654</td> <td>   -0.367</td> <td>    0.231</td>\n",
       "</tr>\n",
       "<tr>\n",
       "  <th>uemp3m[T.No]</th>                                <td>    0.2125</td> <td>    0.089</td> <td>    2.396</td> <td> 0.017</td> <td>    0.039</td> <td>    0.386</td>\n",
       "</tr>\n",
       "<tr>\n",
       "  <th>agea</th>                                        <td>    0.0145</td> <td>    0.002</td> <td>    6.996</td> <td> 0.000</td> <td>    0.010</td> <td>    0.019</td>\n",
       "</tr>\n",
       "<tr>\n",
       "  <th>eduyrs</th>                                      <td>    0.0571</td> <td>    0.009</td> <td>    6.235</td> <td> 0.000</td> <td>    0.039</td> <td>    0.075</td>\n",
       "</tr>\n",
       "<tr>\n",
       "  <th>top_20pct</th>                                   <td>    0.4668</td> <td>    0.094</td> <td>    4.941</td> <td> 0.000</td> <td>    0.282</td> <td>    0.652</td>\n",
       "</tr>\n",
       "<tr>\n",
       "  <th>You can't be too careful/1</th>                  <td>   -1.2090</td> <td>    0.205</td> <td>   -5.896</td> <td> 0.000</td> <td>   -1.611</td> <td>   -0.807</td>\n",
       "</tr>\n",
       "<tr>\n",
       "  <th>1/2</th>                                         <td>   -1.0271</td> <td>    0.143</td> <td>   -7.171</td> <td> 0.000</td> <td>   -1.308</td> <td>   -0.746</td>\n",
       "</tr>\n",
       "<tr>\n",
       "  <th>2/3</th>                                         <td>   -0.3077</td> <td>    0.079</td> <td>   -3.882</td> <td> 0.000</td> <td>   -0.463</td> <td>   -0.152</td>\n",
       "</tr>\n",
       "<tr>\n",
       "  <th>3/4</th>                                         <td>   -0.4372</td> <td>    0.067</td> <td>   -6.566</td> <td> 0.000</td> <td>   -0.568</td> <td>   -0.307</td>\n",
       "</tr>\n",
       "<tr>\n",
       "  <th>4/5</th>                                         <td>   -1.1273</td> <td>    0.085</td> <td>  -13.244</td> <td> 0.000</td> <td>   -1.294</td> <td>   -0.960</td>\n",
       "</tr>\n",
       "<tr>\n",
       "  <th>5/6</th>                                         <td>   -0.4192</td> <td>    0.054</td> <td>   -7.772</td> <td> 0.000</td> <td>   -0.525</td> <td>   -0.313</td>\n",
       "</tr>\n",
       "<tr>\n",
       "  <th>6/7</th>                                         <td>   -1.0345</td> <td>    0.073</td> <td>  -14.101</td> <td> 0.000</td> <td>   -1.178</td> <td>   -0.891</td>\n",
       "</tr>\n",
       "<tr>\n",
       "  <th>7/8</th>                                         <td>   -0.2308</td> <td>    0.050</td> <td>   -4.657</td> <td> 0.000</td> <td>   -0.328</td> <td>   -0.134</td>\n",
       "</tr>\n",
       "<tr>\n",
       "  <th>8/9</th>                                         <td>    0.1805</td> <td>    0.051</td> <td>    3.514</td> <td> 0.000</td> <td>    0.080</td> <td>    0.281</td>\n",
       "</tr>\n",
       "<tr>\n",
       "  <th>9/Most people can be trusted</th>                <td>   -0.2717</td> <td>    0.095</td> <td>   -2.853</td> <td> 0.004</td> <td>   -0.458</td> <td>   -0.085</td>\n",
       "</tr>\n",
       "</table>"
      ],
      "text/latex": [
       "\\begin{center}\n",
       "\\begin{tabular}{lclc}\n",
       "\\toprule\n",
       "\\textbf{Dep. Variable:}                              &      ppltrst       & \\textbf{  Log-Likelihood:    } &   -4578.4   \\\\\n",
       "\\textbf{Model:}                                      &    OrderedModel    & \\textbf{  AIC:               } &     9195.   \\\\\n",
       "\\textbf{Method:}                                     & Maximum Likelihood & \\textbf{  BIC:               } &     9302.   \\\\\n",
       "\\textbf{Date:}                                       &  Sun, 07 Jan 2024  & \\textbf{                     } &             \\\\\n",
       "\\textbf{Time:}                                       &      20:38:39      & \\textbf{                     } &             \\\\\n",
       "\\textbf{No. Observations:}                           &         2055       & \\textbf{                     } &             \\\\\n",
       "\\textbf{Df Residuals:}                               &         2036       & \\textbf{                     } &             \\\\\n",
       "\\textbf{Df Model:}                                   &            9       & \\textbf{                     } &             \\\\\n",
       "\\bottomrule\n",
       "\\end{tabular}\n",
       "\\begin{tabular}{lcccccc}\n",
       "                                                     & \\textbf{coef} & \\textbf{std err} & \\textbf{z} & \\textbf{P$> |$z$|$} & \\textbf{[0.025} & \\textbf{0.975]}  \\\\\n",
       "\\midrule\n",
       "\\textbf{gndr[T.Female]}                              &      -0.0899  &        0.078     &    -1.155  &         0.248        &       -0.243    &        0.063     \\\\\n",
       "\\textbf{domicil[T.Suburbs or outskirts of big city]} &      -0.0248  &        0.119     &    -0.207  &         0.836        &       -0.259    &        0.209     \\\\\n",
       "\\textbf{domicil[T.Town or small city]}               &      -0.1105  &        0.112     &    -0.987  &         0.324        &       -0.330    &        0.109     \\\\\n",
       "\\textbf{domicil[T.Country village]}                  &      -0.0396  &        0.137     &    -0.288  &         0.773        &       -0.308    &        0.229     \\\\\n",
       "\\textbf{domicil[T.Farm or home in countryside]}      &      -0.0684  &        0.153     &    -0.448  &         0.654        &       -0.367    &        0.231     \\\\\n",
       "\\textbf{uemp3m[T.No]}                                &       0.2125  &        0.089     &     2.396  &         0.017        &        0.039    &        0.386     \\\\\n",
       "\\textbf{agea}                                        &       0.0145  &        0.002     &     6.996  &         0.000        &        0.010    &        0.019     \\\\\n",
       "\\textbf{eduyrs}                                      &       0.0571  &        0.009     &     6.235  &         0.000        &        0.039    &        0.075     \\\\\n",
       "\\textbf{top\\_20pct}                                  &       0.4668  &        0.094     &     4.941  &         0.000        &        0.282    &        0.652     \\\\\n",
       "\\textbf{You can't be too careful/1}                  &      -1.2090  &        0.205     &    -5.896  &         0.000        &       -1.611    &       -0.807     \\\\\n",
       "\\textbf{1/2}                                         &      -1.0271  &        0.143     &    -7.171  &         0.000        &       -1.308    &       -0.746     \\\\\n",
       "\\textbf{2/3}                                         &      -0.3077  &        0.079     &    -3.882  &         0.000        &       -0.463    &       -0.152     \\\\\n",
       "\\textbf{3/4}                                         &      -0.4372  &        0.067     &    -6.566  &         0.000        &       -0.568    &       -0.307     \\\\\n",
       "\\textbf{4/5}                                         &      -1.1273  &        0.085     &   -13.244  &         0.000        &       -1.294    &       -0.960     \\\\\n",
       "\\textbf{5/6}                                         &      -0.4192  &        0.054     &    -7.772  &         0.000        &       -0.525    &       -0.313     \\\\\n",
       "\\textbf{6/7}                                         &      -1.0345  &        0.073     &   -14.101  &         0.000        &       -1.178    &       -0.891     \\\\\n",
       "\\textbf{7/8}                                         &      -0.2308  &        0.050     &    -4.657  &         0.000        &       -0.328    &       -0.134     \\\\\n",
       "\\textbf{8/9}                                         &       0.1805  &        0.051     &     3.514  &         0.000        &        0.080    &        0.281     \\\\\n",
       "\\textbf{9/Most people can be trusted}                &      -0.2717  &        0.095     &    -2.853  &         0.004        &       -0.458    &       -0.085     \\\\\n",
       "\\bottomrule\n",
       "\\end{tabular}\n",
       "%\\caption{OrderedModel Results}\n",
       "\\end{center}"
      ],
      "text/plain": [
       "<class 'statsmodels.iolib.summary.Summary'>\n",
       "\"\"\"\n",
       "                             OrderedModel Results                             \n",
       "==============================================================================\n",
       "Dep. Variable:                ppltrst   Log-Likelihood:                -4578.4\n",
       "Model:                   OrderedModel   AIC:                             9195.\n",
       "Method:            Maximum Likelihood   BIC:                             9302.\n",
       "Date:                Sun, 07 Jan 2024                                         \n",
       "Time:                        20:38:39                                         \n",
       "No. Observations:                2055                                         \n",
       "Df Residuals:                    2036                                         \n",
       "Df Model:                           9                                         \n",
       "===============================================================================================================\n",
       "                                                  coef    std err          z      P>|z|      [0.025      0.975]\n",
       "---------------------------------------------------------------------------------------------------------------\n",
       "gndr[T.Female]                                 -0.0899      0.078     -1.155      0.248      -0.243       0.063\n",
       "domicil[T.Suburbs or outskirts of big city]    -0.0248      0.119     -0.207      0.836      -0.259       0.209\n",
       "domicil[T.Town or small city]                  -0.1105      0.112     -0.987      0.324      -0.330       0.109\n",
       "domicil[T.Country village]                     -0.0396      0.137     -0.288      0.773      -0.308       0.229\n",
       "domicil[T.Farm or home in countryside]         -0.0684      0.153     -0.448      0.654      -0.367       0.231\n",
       "uemp3m[T.No]                                    0.2125      0.089      2.396      0.017       0.039       0.386\n",
       "agea                                            0.0145      0.002      6.996      0.000       0.010       0.019\n",
       "eduyrs                                          0.0571      0.009      6.235      0.000       0.039       0.075\n",
       "top_20pct                                       0.4668      0.094      4.941      0.000       0.282       0.652\n",
       "You can't be too careful/1                     -1.2090      0.205     -5.896      0.000      -1.611      -0.807\n",
       "1/2                                            -1.0271      0.143     -7.171      0.000      -1.308      -0.746\n",
       "2/3                                            -0.3077      0.079     -3.882      0.000      -0.463      -0.152\n",
       "3/4                                            -0.4372      0.067     -6.566      0.000      -0.568      -0.307\n",
       "4/5                                            -1.1273      0.085    -13.244      0.000      -1.294      -0.960\n",
       "5/6                                            -0.4192      0.054     -7.772      0.000      -0.525      -0.313\n",
       "6/7                                            -1.0345      0.073    -14.101      0.000      -1.178      -0.891\n",
       "7/8                                            -0.2308      0.050     -4.657      0.000      -0.328      -0.134\n",
       "8/9                                             0.1805      0.051      3.514      0.000       0.080       0.281\n",
       "9/Most people can be trusted                   -0.2717      0.095     -2.853      0.004      -0.458      -0.085\n",
       "===============================================================================================================\n",
       "\"\"\""
      ]
     },
     "execution_count": 66,
     "metadata": {},
     "output_type": "execute_result"
    }
   ],
   "source": [
    "model_pl_v2 = OrderedModel.from_formula(\"ppltrst ~ agea + eduyrs + gndr + domicil + top_20pct + uemp3m\", data_se_preprocessed, distr=\"logit\")\n",
    "\n",
    "res_log = model_pl_v2.fit(method='bfgs', disp=False)\n",
    "res_log.summary()"
   ]
  },
  {
   "cell_type": "code",
   "execution_count": null,
   "id": "22cf661b",
   "metadata": {},
   "outputs": [],
   "source": []
  }
 ],
 "metadata": {
  "kernelspec": {
   "display_name": "base",
   "language": "python",
   "name": "python3"
  },
  "language_info": {
   "codemirror_mode": {
    "name": "ipython",
    "version": 3
   },
   "file_extension": ".py",
   "mimetype": "text/x-python",
   "name": "python",
   "nbconvert_exporter": "python",
   "pygments_lexer": "ipython3",
   "version": "3.11.4"
  },
  "vscode": {
   "interpreter": {
    "hash": "bd16d351733c763a7ca2d9476550cdb56cc5c744ed9b08e2834b6d69eb0abec4"
   }
  }
 },
 "nbformat": 4,
 "nbformat_minor": 5
}
