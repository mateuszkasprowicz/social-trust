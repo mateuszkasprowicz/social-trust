{
 "cells": [
  {
   "cell_type": "markdown",
   "source": [
    "# Selected socio-economic determinants of social trust\n",
    "\n",
    "Author: Mateusz Kasprowicz\n",
    "Date: January 2024"
   ],
   "metadata": {
    "collapsed": false
   },
   "id": "82bf2bea55bc3a4d"
  },
  {
   "cell_type": "markdown",
   "source": [
    "## Load libraries"
   ],
   "metadata": {
    "collapsed": false
   },
   "id": "e1f707f51ac62e9d"
  },
  {
   "cell_type": "code",
   "execution_count": 1,
   "outputs": [],
   "source": [
    "import random\n",
    "\n",
    "import pandas as pd\n",
    "import numpy as np\n",
    "\n",
    "import matplotlib as mpl\n",
    "import matplotlib.pyplot as plt\n",
    "import seaborn as sns\n",
    "import plotly.express as px\n",
    "\n",
    "import sklearn\n",
    "import statsmodels.api as sm\n",
    "from statsmodels.miscmodels.ordinal_model import OrderedModel"
   ],
   "metadata": {
    "collapsed": false,
    "ExecuteTime": {
     "end_time": "2023-12-26T16:42:03.422134700Z",
     "start_time": "2023-12-26T16:42:01.607268400Z"
    }
   },
   "id": "f46af5316d9f43a"
  },
  {
   "cell_type": "markdown",
   "source": [
    "## Constants"
   ],
   "metadata": {
    "collapsed": false
   },
   "id": "2a90c1d8251a7467"
  },
  {
   "cell_type": "code",
   "execution_count": 2,
   "outputs": [],
   "source": [
    "np.random.seed(0)\n",
    "random.seed(0)"
   ],
   "metadata": {
    "collapsed": false,
    "ExecuteTime": {
     "end_time": "2023-12-26T16:42:03.457462800Z",
     "start_time": "2023-12-26T16:42:03.419754200Z"
    }
   },
   "id": "ed6791f39f0e2f96"
  },
  {
   "cell_type": "markdown",
   "source": [
    "## Load data"
   ],
   "metadata": {
    "collapsed": false
   },
   "id": "3b180d1efaa27d29"
  },
  {
   "cell_type": "code",
   "execution_count": 12,
   "outputs": [],
   "source": [
    "columns_used = [\"cntry\", \n",
    "                \"agea\", \n",
    "                \"eduyrs\", \n",
    "                \"gndr\", \n",
    "                \"domicil\", # A big city, suburbs, town or small city, country village, etc.\n",
    "                \"hinctnta\", # Household's total net income, all sources\n",
    "                \"uemp3m\", # Ever unemployed and seeking work for a period more than three months\n",
    "                ]"
   ],
   "metadata": {
    "collapsed": false,
    "ExecuteTime": {
     "end_time": "2023-12-26T17:01:18.322854600Z",
     "start_time": "2023-12-26T17:01:18.316472200Z"
    }
   },
   "id": "be4b9de61dc09d4f"
  },
  {
   "cell_type": "code",
   "execution_count": 13,
   "outputs": [],
   "source": [
    "data = pd.read_stata(r\"../data/ESS10SC_STATA/ESS10SC.dta\", \n",
    "                     columns=columns_used,\n",
    "                     # convert_categoricals=False,\n",
    "                     )"
   ],
   "metadata": {
    "collapsed": false,
    "ExecuteTime": {
     "end_time": "2023-12-26T17:01:19.008872900Z",
     "start_time": "2023-12-26T17:01:18.900641Z"
    }
   },
   "id": "e272f11edd83e06e"
  },
  {
   "cell_type": "code",
   "execution_count": 14,
   "outputs": [
    {
     "name": "stdout",
     "output_type": "stream",
     "text": [
      "<class 'pandas.core.frame.DataFrame'>\n",
      "RangeIndex: 22074 entries, 0 to 22073\n",
      "Data columns (total 7 columns):\n",
      " #   Column    Non-Null Count  Dtype   \n",
      "---  ------    --------------  -----   \n",
      " 0   cntry     22074 non-null  object  \n",
      " 1   agea      21028 non-null  category\n",
      " 2   eduyrs    20074 non-null  category\n",
      " 3   gndr      21439 non-null  category\n",
      " 4   domicil   21291 non-null  category\n",
      " 5   hinctnta  17232 non-null  category\n",
      " 6   uemp3m    20676 non-null  category\n",
      "dtypes: category(6), object(1)\n",
      "memory usage: 306.8+ KB\n"
     ]
    }
   ],
   "source": [
    "data.info()"
   ],
   "metadata": {
    "collapsed": false,
    "ExecuteTime": {
     "end_time": "2023-12-26T17:01:20.746657800Z",
     "start_time": "2023-12-26T17:01:20.734482800Z"
    }
   },
   "id": "826c20937cff985b"
  },
  {
   "cell_type": "code",
   "execution_count": 15,
   "outputs": [
    {
     "data": {
      "text/plain": "      cntry  agea eduyrs    gndr                           domicil  \\\n6676     DE  77.0    NaN  Female                               NaN   \n14824    IL  42.0   16.0    Male  Suburbs or outskirts of big city   \n18791    RS  61.0   12.0  Female                Town or small city   \n11088    DE  51.0   13.0  Female                Town or small city   \n8420     DE  33.0   15.0    Male                   Country village   \n\n              hinctnta uemp3m  \n6676               NaN    NaN  \n14824  H - 10th decile    Yes  \n18791   C - 3rd decile    Yes  \n11088   S - 6th decile     No  \n8420    R - 2nd decile     No  ",
      "text/html": "<div>\n<style scoped>\n    .dataframe tbody tr th:only-of-type {\n        vertical-align: middle;\n    }\n\n    .dataframe tbody tr th {\n        vertical-align: top;\n    }\n\n    .dataframe thead th {\n        text-align: right;\n    }\n</style>\n<table border=\"1\" class=\"dataframe\">\n  <thead>\n    <tr style=\"text-align: right;\">\n      <th></th>\n      <th>cntry</th>\n      <th>agea</th>\n      <th>eduyrs</th>\n      <th>gndr</th>\n      <th>domicil</th>\n      <th>hinctnta</th>\n      <th>uemp3m</th>\n    </tr>\n  </thead>\n  <tbody>\n    <tr>\n      <th>6676</th>\n      <td>DE</td>\n      <td>77.0</td>\n      <td>NaN</td>\n      <td>Female</td>\n      <td>NaN</td>\n      <td>NaN</td>\n      <td>NaN</td>\n    </tr>\n    <tr>\n      <th>14824</th>\n      <td>IL</td>\n      <td>42.0</td>\n      <td>16.0</td>\n      <td>Male</td>\n      <td>Suburbs or outskirts of big city</td>\n      <td>H - 10th decile</td>\n      <td>Yes</td>\n    </tr>\n    <tr>\n      <th>18791</th>\n      <td>RS</td>\n      <td>61.0</td>\n      <td>12.0</td>\n      <td>Female</td>\n      <td>Town or small city</td>\n      <td>C - 3rd decile</td>\n      <td>Yes</td>\n    </tr>\n    <tr>\n      <th>11088</th>\n      <td>DE</td>\n      <td>51.0</td>\n      <td>13.0</td>\n      <td>Female</td>\n      <td>Town or small city</td>\n      <td>S - 6th decile</td>\n      <td>No</td>\n    </tr>\n    <tr>\n      <th>8420</th>\n      <td>DE</td>\n      <td>33.0</td>\n      <td>15.0</td>\n      <td>Male</td>\n      <td>Country village</td>\n      <td>R - 2nd decile</td>\n      <td>No</td>\n    </tr>\n  </tbody>\n</table>\n</div>"
     },
     "execution_count": 15,
     "metadata": {},
     "output_type": "execute_result"
    }
   ],
   "source": [
    "data.sample(5)"
   ],
   "metadata": {
    "collapsed": false,
    "ExecuteTime": {
     "end_time": "2023-12-26T17:01:46.578561200Z",
     "start_time": "2023-12-26T17:01:46.556467500Z"
    }
   },
   "id": "62db5a3d53abc2f8"
  },
  {
   "cell_type": "markdown",
   "source": [
    "## Modeling"
   ],
   "metadata": {
    "collapsed": false
   },
   "id": "bebd2ec818584f"
  },
  {
   "cell_type": "code",
   "execution_count": null,
   "outputs": [],
   "source": [
    "# ordinal logistic regression: https://www.statsmodels.org/stable/examples/notebooks/generated/ordinal_regression.html\n",
    "# https://www.statsmodels.org/dev/generated/statsmodels.miscmodels.ordinal_model.OrderedModel.html\n",
    "mod_log = OrderedModel(endog=None,\n",
    "                       exog=None,\n",
    "                       distr=\"logit\")\n",
    "res_log = mod_log.fit(method='bfgs', disp=False)\n",
    "res_log.summary()"
   ],
   "metadata": {
    "collapsed": false
   },
   "id": "1a2625aef6acb410"
  }
 ],
 "metadata": {
  "kernelspec": {
   "display_name": "Python 3",
   "language": "python",
   "name": "python3"
  },
  "language_info": {
   "codemirror_mode": {
    "name": "ipython",
    "version": 2
   },
   "file_extension": ".py",
   "mimetype": "text/x-python",
   "name": "python",
   "nbconvert_exporter": "python",
   "pygments_lexer": "ipython2",
   "version": "2.7.6"
  }
 },
 "nbformat": 4,
 "nbformat_minor": 5
}
