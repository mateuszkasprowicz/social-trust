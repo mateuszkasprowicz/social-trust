{
 "cells": [
  {
   "cell_type": "markdown",
   "source": [
    "# Selected socio-economic determinants of social trust\n",
    "\n",
    "Author: Mateusz Kasprowicz\n",
    "Date: January 2024"
   ],
   "metadata": {
    "collapsed": false
   },
   "id": "82bf2bea55bc3a4d"
  },
  {
   "cell_type": "markdown",
   "source": [
    "## Load libraries"
   ],
   "metadata": {
    "collapsed": false
   },
   "id": "e1f707f51ac62e9d"
  },
  {
   "cell_type": "code",
   "execution_count": 1,
   "outputs": [],
   "source": [
    "import random\n",
    "\n",
    "import pandas as pd\n",
    "from ydata_profiling import ProfileReport\n",
    "import numpy as np\n",
    "\n",
    "import matplotlib as mpl\n",
    "import matplotlib.pyplot as plt\n",
    "import seaborn as sns\n",
    "import plotly.express as px\n",
    "\n",
    "import sklearn\n",
    "import statsmodels.api as sm\n",
    "from statsmodels.miscmodels.ordinal_model import OrderedModel"
   ],
   "metadata": {
    "collapsed": false,
    "ExecuteTime": {
     "end_time": "2023-12-31T13:08:29.573046300Z",
     "start_time": "2023-12-31T13:08:27.309251200Z"
    }
   },
   "id": "f46af5316d9f43a"
  },
  {
   "cell_type": "markdown",
   "source": [
    "## Constants"
   ],
   "metadata": {
    "collapsed": false
   },
   "id": "2a90c1d8251a7467"
  },
  {
   "cell_type": "code",
   "execution_count": 2,
   "outputs": [],
   "source": [
    "np.random.seed(0)\n",
    "random.seed(0)"
   ],
   "metadata": {
    "collapsed": false,
    "ExecuteTime": {
     "end_time": "2023-12-31T13:08:29.581984900Z",
     "start_time": "2023-12-31T13:08:29.572537800Z"
    }
   },
   "id": "ed6791f39f0e2f96"
  },
  {
   "cell_type": "markdown",
   "source": [
    "## Load data"
   ],
   "metadata": {
    "collapsed": false
   },
   "id": "3b180d1efaa27d29"
  },
  {
   "cell_type": "code",
   "execution_count": 6,
   "outputs": [],
   "source": [
    "columns_used = [\"cntry\", \n",
    "                \"agea\", \n",
    "                \"eduyrs\", \n",
    "                \"gndr\", \n",
    "                \"domicil\", # A big city, suburbs, town or small city, country village, etc.\n",
    "                \"hinctnta\", # Household's total net income, all sources\n",
    "                \"uemp3m\", # Ever unemployed and seeking work for a period more than three months\n",
    "                \"ppltrst\", # Most people can be trusted or you can't be too careful\n",
    "                ]"
   ],
   "metadata": {
    "collapsed": false,
    "ExecuteTime": {
     "end_time": "2023-12-31T13:23:12.346827200Z",
     "start_time": "2023-12-31T13:23:12.315479200Z"
    }
   },
   "id": "be4b9de61dc09d4f"
  },
  {
   "cell_type": "code",
   "execution_count": 7,
   "outputs": [],
   "source": [
    "data = pd.read_stata(r\"../data/ESS10SC_STATA/ESS10SC.dta\", columns=columns_used)"
   ],
   "metadata": {
    "collapsed": false,
    "ExecuteTime": {
     "end_time": "2023-12-31T13:23:12.608955100Z",
     "start_time": "2023-12-31T13:23:12.489277400Z"
    }
   },
   "id": "e272f11edd83e06e"
  },
  {
   "cell_type": "code",
   "execution_count": 9,
   "outputs": [
    {
     "name": "stdout",
     "output_type": "stream",
     "text": [
      "<class 'pandas.core.frame.DataFrame'>\n",
      "RangeIndex: 22074 entries, 0 to 22073\n",
      "Data columns (total 8 columns):\n",
      " #   Column    Non-Null Count  Dtype   \n",
      "---  ------    --------------  -----   \n",
      " 0   cntry     22074 non-null  object  \n",
      " 1   agea      21028 non-null  category\n",
      " 2   eduyrs    20074 non-null  category\n",
      " 3   gndr      21439 non-null  category\n",
      " 4   domicil   21291 non-null  category\n",
      " 5   hinctnta  17232 non-null  category\n",
      " 6   uemp3m    20676 non-null  category\n",
      " 7   ppltrst   21921 non-null  category\n",
      "dtypes: category(7), object(1)\n",
      "memory usage: 328.7+ KB\n"
     ]
    }
   ],
   "source": [
    "data.info()"
   ],
   "metadata": {
    "collapsed": false,
    "ExecuteTime": {
     "end_time": "2023-12-31T13:25:04.890220Z",
     "start_time": "2023-12-31T13:25:04.853549200Z"
    }
   },
   "id": "826c20937cff985b"
  },
  {
   "cell_type": "code",
   "execution_count": 11,
   "outputs": [],
   "source": [
    "data[[\"agea\", \"eduyrs\"]] = data[[\"agea\", \"eduyrs\"]].astype(pd.Int64Dtype())"
   ],
   "metadata": {
    "collapsed": false,
    "ExecuteTime": {
     "end_time": "2023-12-31T13:27:48.382946100Z",
     "start_time": "2023-12-31T13:27:48.372132700Z"
    }
   },
   "id": "b209da4071573efb"
  },
  {
   "cell_type": "code",
   "execution_count": 12,
   "outputs": [
    {
     "data": {
      "text/plain": "      cntry  agea  eduyrs    gndr                           domicil  \\\n6676     DE    77    <NA>  Female                               NaN   \n14824    IL    42      16    Male  Suburbs or outskirts of big city   \n18791    RS    61      12  Female                Town or small city   \n11088    DE    51      13  Female                Town or small city   \n8420     DE    33      15    Male                   Country village   \n\n              hinctnta uemp3m                   ppltrst  \n6676               NaN    NaN                         2  \n14824  H - 10th decile    Yes                         7  \n18791   C - 3rd decile    Yes  You can't be too careful  \n11088   S - 6th decile     No                         6  \n8420    R - 2nd decile     No                         3  ",
      "text/html": "<div>\n<style scoped>\n    .dataframe tbody tr th:only-of-type {\n        vertical-align: middle;\n    }\n\n    .dataframe tbody tr th {\n        vertical-align: top;\n    }\n\n    .dataframe thead th {\n        text-align: right;\n    }\n</style>\n<table border=\"1\" class=\"dataframe\">\n  <thead>\n    <tr style=\"text-align: right;\">\n      <th></th>\n      <th>cntry</th>\n      <th>agea</th>\n      <th>eduyrs</th>\n      <th>gndr</th>\n      <th>domicil</th>\n      <th>hinctnta</th>\n      <th>uemp3m</th>\n      <th>ppltrst</th>\n    </tr>\n  </thead>\n  <tbody>\n    <tr>\n      <th>6676</th>\n      <td>DE</td>\n      <td>77</td>\n      <td>&lt;NA&gt;</td>\n      <td>Female</td>\n      <td>NaN</td>\n      <td>NaN</td>\n      <td>NaN</td>\n      <td>2</td>\n    </tr>\n    <tr>\n      <th>14824</th>\n      <td>IL</td>\n      <td>42</td>\n      <td>16</td>\n      <td>Male</td>\n      <td>Suburbs or outskirts of big city</td>\n      <td>H - 10th decile</td>\n      <td>Yes</td>\n      <td>7</td>\n    </tr>\n    <tr>\n      <th>18791</th>\n      <td>RS</td>\n      <td>61</td>\n      <td>12</td>\n      <td>Female</td>\n      <td>Town or small city</td>\n      <td>C - 3rd decile</td>\n      <td>Yes</td>\n      <td>You can't be too careful</td>\n    </tr>\n    <tr>\n      <th>11088</th>\n      <td>DE</td>\n      <td>51</td>\n      <td>13</td>\n      <td>Female</td>\n      <td>Town or small city</td>\n      <td>S - 6th decile</td>\n      <td>No</td>\n      <td>6</td>\n    </tr>\n    <tr>\n      <th>8420</th>\n      <td>DE</td>\n      <td>33</td>\n      <td>15</td>\n      <td>Male</td>\n      <td>Country village</td>\n      <td>R - 2nd decile</td>\n      <td>No</td>\n      <td>3</td>\n    </tr>\n  </tbody>\n</table>\n</div>"
     },
     "execution_count": 12,
     "metadata": {},
     "output_type": "execute_result"
    }
   ],
   "source": [
    "data.sample(5)"
   ],
   "metadata": {
    "collapsed": false,
    "ExecuteTime": {
     "end_time": "2023-12-31T13:27:49.661520800Z",
     "start_time": "2023-12-31T13:27:49.640638Z"
    }
   },
   "id": "62db5a3d53abc2f8"
  },
  {
   "cell_type": "markdown",
   "source": [
    "## Overall EDA"
   ],
   "metadata": {
    "collapsed": false
   },
   "id": "78a65549d96871a8"
  },
  {
   "cell_type": "code",
   "execution_count": 13,
   "outputs": [],
   "source": [
    "profile = ProfileReport(data, title=\"Profiling Report\")\n",
    "profile.to_file(\"../data/EDA_full.html\")"
   ],
   "metadata": {
    "collapsed": false,
    "ExecuteTime": {
     "end_time": "2023-12-31T13:27:54.598864200Z",
     "start_time": "2023-12-31T13:27:54.592920400Z"
    }
   },
   "id": "f50b63b76afbbf57"
  },
  {
   "cell_type": "markdown",
   "source": [
    "## Modeling"
   ],
   "metadata": {
    "collapsed": false
   },
   "id": "bebd2ec818584f"
  },
  {
   "cell_type": "markdown",
   "source": [
    "### Model for Poland"
   ],
   "metadata": {
    "collapsed": false
   },
   "id": "53ede38386c93148"
  },
  {
   "cell_type": "markdown",
   "source": [
    "#### Preprocess data"
   ],
   "metadata": {
    "collapsed": false
   },
   "id": "9e8d778c04fd6d53"
  },
  {
   "cell_type": "code",
   "execution_count": 17,
   "outputs": [],
   "source": [
    "data_pl = data[data.cntry == \"PL\"].drop(columns=[\"cntry\"])"
   ],
   "metadata": {
    "collapsed": false,
    "ExecuteTime": {
     "end_time": "2023-12-31T13:33:57.571839500Z",
     "start_time": "2023-12-31T13:33:57.563733400Z"
    }
   },
   "id": "36ed2d7e52ccc61d"
  },
  {
   "cell_type": "code",
   "execution_count": 25,
   "outputs": [
    {
     "data": {
      "text/plain": "2065"
     },
     "execution_count": 25,
     "metadata": {},
     "output_type": "execute_result"
    }
   ],
   "source": [
    "data_pl.shape[0]"
   ],
   "metadata": {
    "collapsed": false,
    "ExecuteTime": {
     "end_time": "2023-12-31T13:37:06.120065500Z",
     "start_time": "2023-12-31T13:37:06.115118700Z"
    }
   },
   "id": "81a5dcd4078240c9"
  },
  {
   "cell_type": "code",
   "execution_count": null,
   "outputs": [],
   "source": [
    "profile = ProfileReport(data_pl, title=\"Profiling Report for Poland\")\n",
    "profile.to_file(\"../data/EDA_PL.html\")"
   ],
   "metadata": {
    "collapsed": false
   },
   "id": "369569eb8a2c4fbf"
  },
  {
   "cell_type": "markdown",
   "source": [
    "Number of observations with at least one NaN value"
   ],
   "metadata": {
    "collapsed": false
   },
   "id": "20fdbcd6eff049af"
  },
  {
   "cell_type": "code",
   "execution_count": 34,
   "outputs": [
    {
     "data": {
      "text/plain": "600"
     },
     "execution_count": 34,
     "metadata": {},
     "output_type": "execute_result"
    }
   ],
   "source": [
    "data_pl.loc[data_pl.isna().any(axis=1)].shape[0]"
   ],
   "metadata": {
    "collapsed": false,
    "ExecuteTime": {
     "end_time": "2023-12-31T13:39:05.549048Z",
     "start_time": "2023-12-31T13:39:05.540900300Z"
    }
   },
   "id": "b3ec1a91b3889051"
  },
  {
   "cell_type": "code",
   "execution_count": 36,
   "outputs": [],
   "source": [
    "# TODO: which NaNs to drop and which to impute -> then do the same for SE"
   ],
   "metadata": {
    "collapsed": false,
    "ExecuteTime": {
     "end_time": "2023-12-31T13:42:50.967419300Z",
     "start_time": "2023-12-31T13:42:50.967419300Z"
    }
   },
   "id": "21968ce99e619245"
  },
  {
   "cell_type": "markdown",
   "source": [
    "#### Build a model"
   ],
   "metadata": {
    "collapsed": false
   },
   "id": "ba0fff26b6372934"
  },
  {
   "cell_type": "code",
   "execution_count": null,
   "outputs": [],
   "source": [
    "# ordinal logistic regression: https://www.statsmodels.org/stable/examples/notebooks/generated/ordinal_regression.html\n",
    "# https://www.statsmodels.org/dev/generated/statsmodels.miscmodels.ordinal_model.OrderedModel.html\n",
    "model_pl = OrderedModel(endog=None,\n",
    "                       exog=None,\n",
    "                       distr=\"logit\")\n",
    "res_log = model_pl.fit(method='bfgs', disp=False)\n",
    "res_log.summary()"
   ],
   "metadata": {
    "collapsed": false
   },
   "id": "1a2625aef6acb410"
  },
  {
   "cell_type": "markdown",
   "source": [
    "### Model for Sweden"
   ],
   "metadata": {
    "collapsed": false
   },
   "id": "1dbbb9e3a193702a"
  },
  {
   "cell_type": "code",
   "execution_count": 21,
   "outputs": [],
   "source": [
    "data_se = data[data.cntry == \"SE\"].drop(columns=[\"cntry\"])"
   ],
   "metadata": {
    "collapsed": false,
    "ExecuteTime": {
     "end_time": "2023-12-31T13:34:20.863908600Z",
     "start_time": "2023-12-31T13:34:20.856626Z"
    }
   },
   "id": "bfb2a1cfd4417476"
  },
  {
   "cell_type": "code",
   "execution_count": null,
   "outputs": [],
   "source": [
    "profile = ProfileReport(data_se, title=\"Profiling Report for Sweden\")\n",
    "profile.to_file(\"../data/EDA_SE.html\")"
   ],
   "metadata": {
    "collapsed": false
   },
   "id": "f7de71459ac295e9"
  },
  {
   "cell_type": "code",
   "execution_count": null,
   "outputs": [],
   "source": [],
   "metadata": {
    "collapsed": false
   },
   "id": "f74b9d4058ab22be"
  },
  {
   "cell_type": "code",
   "execution_count": null,
   "outputs": [],
   "source": [
    "model_se = OrderedModel(endog=None,\n",
    "                       exog=None,\n",
    "                       distr=\"logit\")\n",
    "res_log = model_se.fit(method='bfgs', disp=False)\n",
    "res_log.summary()"
   ],
   "metadata": {
    "collapsed": false
   },
   "id": "608e90606a3c2048"
  }
 ],
 "metadata": {
  "kernelspec": {
   "display_name": "Python 3",
   "language": "python",
   "name": "python3"
  },
  "language_info": {
   "codemirror_mode": {
    "name": "ipython",
    "version": 2
   },
   "file_extension": ".py",
   "mimetype": "text/x-python",
   "name": "python",
   "nbconvert_exporter": "python",
   "pygments_lexer": "ipython2",
   "version": "2.7.6"
  }
 },
 "nbformat": 4,
 "nbformat_minor": 5
}
